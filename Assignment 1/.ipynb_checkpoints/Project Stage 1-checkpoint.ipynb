{
 "cells": [
  {
   "cell_type": "code",
   "execution_count": 17,
   "metadata": {},
   "outputs": [],
   "source": [
    "# Importing the libraries needed\n",
    "import pandas as pd\n",
    "from ipykernel import kernelapp as app\n",
    "import os\n",
    "import math\n",
    "import matplotlib\n",
    "import numpy as np\n",
    "import datetime as dt\n",
    "import matplotlib.pyplot as plt\n",
    "import matplotlib.ticker as mticker\n",
    "from scipy import stats # For Box-Cox Transformation\n",
    "from mlxtend.preprocessing import minmax_scaling # For min_max scaling\n",
    "import matplotlib.dates as mdates\n",
    "import seaborn as sns\n",
    "%matplotlib inline"
   ]
  },
  {
   "cell_type": "code",
   "execution_count": 2,
   "metadata": {},
   "outputs": [
    {
     "name": "stdout",
     "output_type": "stream",
     "text": [
      "[u'seaborn-darkgrid', u'seaborn-notebook', u'classic', u'seaborn-ticks', u'grayscale', u'bmh', u'seaborn-talk', u'dark_background', u'ggplot', u'fivethirtyeight', u'_classic_test', u'seaborn-colorblind', u'seaborn-deep', u'seaborn-whitegrid', u'seaborn-bright', u'seaborn-poster', u'seaborn-muted', u'seaborn-paper', u'seaborn-white', u'seaborn-pastel', u'seaborn-dark', u'seaborn', u'seaborn-dark-palette']\n"
     ]
    }
   ],
   "source": [
    "# I want to know the available fonts\n",
    "print(plt.style.available)"
   ]
  },
  {
   "cell_type": "code",
   "execution_count": 4,
   "metadata": {},
   "outputs": [
    {
     "name": "stdout",
     "output_type": "stream",
     "text": [
      "Original Dataset Dimensions: (378661, 15)\n"
     ]
    }
   ],
   "source": [
    "# The file and path to locate the dataset\n",
    "kickstarter = ('kickstarter_2018.csv')\n",
    "\n",
    "# The csv file is stored as a dataframe in pandas.\n",
    "file_opened = pd.read_csv(kickstarter)\n",
    "dataframe = pd.DataFrame(file_opened)\n",
    "\n",
    "# Rows, columns\n",
    "print('Original Dataset Dimensions: ' + str(dataframe.shape))"
   ]
  },
  {
   "cell_type": "code",
   "execution_count": 5,
   "metadata": {},
   "outputs": [],
   "source": [
    "# Dropping the columns that are not needed for the final dataset\n",
    "cleanedDataframe = dataframe.drop(['category', 'usd pledged', 'goal', 'pledged'], axis=1)"
   ]
  },
  {
   "cell_type": "code",
   "execution_count": 6,
   "metadata": {},
   "outputs": [],
   "source": [
    "# Check for word values in usd_pledged_real and remove the row if there is a word present\n",
    "cleanedDataframe.usd_pledged_real = pd.to_numeric(cleanedDataframe.usd_pledged_real, errors='coerce')\n",
    "cleanedDataframe = cleanedDataframe.dropna(subset=['usd_pledged_real'])\n",
    "cleanedDataframe.usd_pledged_real = cleanedDataframe.usd_pledged_real.astype(int)"
   ]
  },
  {
   "cell_type": "code",
   "execution_count": 7,
   "metadata": {},
   "outputs": [],
   "source": [
    "# Check for word values in usd_goal_real and remove the row if there is a word present\n",
    "cleanedDataframe.usd_goal_real = pd.to_numeric(cleanedDataframe.usd_goal_real, errors='coerce')\n",
    "cleanedDataframe = cleanedDataframe.dropna(subset=['usd_goal_real'])\n",
    "cleanedDataframe.usd_goal_real = cleanedDataframe.usd_goal_real.astype(int)"
   ]
  },
  {
   "cell_type": "code",
   "execution_count": 8,
   "metadata": {
    "scrolled": true
   },
   "outputs": [],
   "source": [
    "# Displays the data where date is the index\n",
    "df = cleanedDataframe.set_index('launched') #[:1000]\n",
    "df.sort_index(inplace=True)\n",
    "\n",
    "# Only get the Launch days Jan 2017 to Feb 2017\n",
    "df = df.loc['2017-01-01':'2017-02-01']"
   ]
  },
  {
   "cell_type": "code",
   "execution_count": 9,
   "metadata": {},
   "outputs": [
    {
     "data": {
      "text/plain": [
       "Index([u'ID', u'name', u'main_category', u'currency', u'deadline', u'state',\n",
       "       u'backers', u'country', u'usd_pledged_real', u'usd_goal_real'],\n",
       "      dtype='object')"
      ]
     },
     "execution_count": 9,
     "metadata": {},
     "output_type": "execute_result"
    }
   ],
   "source": [
    "# The column names of the file\n",
    "df.columns"
   ]
  },
  {
   "cell_type": "code",
   "execution_count": 10,
   "metadata": {},
   "outputs": [
    {
     "name": "stdout",
     "output_type": "stream",
     "text": [
      "Saved the new cleaned, and transformed dataset under the name: transformed_kickstarter_2017.csv\n",
      "Cleaned Dataset Dimensions: (4451, 10)\n"
     ]
    }
   ],
   "source": [
    "# Saving our analyzed, cleaned and transformed dataset\n",
    "new_dataset_name = 'transformed_kickstarter_2017.csv'\n",
    "df.to_csv(new_dataset_name)\n",
    "print('Saved the new cleaned, and transformed dataset under the name: ' +new_dataset_name)\n",
    "\n",
    "# Cleaned dataset dimensions\n",
    "print('Cleaned Dataset Dimensions: ' + str(df.shape))"
   ]
  },
  {
   "cell_type": "code",
   "execution_count": 11,
   "metadata": {},
   "outputs": [
    {
     "data": {
      "text/html": [
       "<div>\n",
       "<style>\n",
       "    .dataframe thead tr:only-child th {\n",
       "        text-align: right;\n",
       "    }\n",
       "\n",
       "    .dataframe thead th {\n",
       "        text-align: left;\n",
       "    }\n",
       "\n",
       "    .dataframe tbody tr th {\n",
       "        vertical-align: top;\n",
       "    }\n",
       "</style>\n",
       "<table border=\"1\" class=\"dataframe\">\n",
       "  <thead>\n",
       "    <tr style=\"text-align: right;\">\n",
       "      <th></th>\n",
       "      <th>ID</th>\n",
       "      <th>name</th>\n",
       "      <th>main_category</th>\n",
       "      <th>currency</th>\n",
       "      <th>deadline</th>\n",
       "      <th>state</th>\n",
       "      <th>backers</th>\n",
       "      <th>country</th>\n",
       "      <th>usd_pledged_real</th>\n",
       "      <th>usd_goal_real</th>\n",
       "    </tr>\n",
       "    <tr>\n",
       "      <th>launched</th>\n",
       "      <th></th>\n",
       "      <th></th>\n",
       "      <th></th>\n",
       "      <th></th>\n",
       "      <th></th>\n",
       "      <th></th>\n",
       "      <th></th>\n",
       "      <th></th>\n",
       "      <th></th>\n",
       "      <th></th>\n",
       "    </tr>\n",
       "  </thead>\n",
       "  <tbody>\n",
       "    <tr>\n",
       "      <th>2017-01-01 00:35:20</th>\n",
       "      <td>1856478743</td>\n",
       "      <td>Podcast \"El Valle de los Tercos\": Latinos en S...</td>\n",
       "      <td>Journalism</td>\n",
       "      <td>USD</td>\n",
       "      <td>2017-02-06</td>\n",
       "      <td>successful</td>\n",
       "      <td>47</td>\n",
       "      <td>US</td>\n",
       "      <td>2028</td>\n",
       "      <td>1250</td>\n",
       "    </tr>\n",
       "    <tr>\n",
       "      <th>2017-01-01 00:52:32</th>\n",
       "      <td>1879437630</td>\n",
       "      <td>Resolute Magazine</td>\n",
       "      <td>Journalism</td>\n",
       "      <td>USD</td>\n",
       "      <td>2017-02-01</td>\n",
       "      <td>successful</td>\n",
       "      <td>16</td>\n",
       "      <td>US</td>\n",
       "      <td>502</td>\n",
       "      <td>500</td>\n",
       "    </tr>\n",
       "    <tr>\n",
       "      <th>2017-01-01 01:40:17</th>\n",
       "      <td>297142419</td>\n",
       "      <td>Pussycats: Sex, Drugs, &amp; The Impossible #2</td>\n",
       "      <td>Comics</td>\n",
       "      <td>USD</td>\n",
       "      <td>2017-01-31</td>\n",
       "      <td>successful</td>\n",
       "      <td>59</td>\n",
       "      <td>US</td>\n",
       "      <td>1089</td>\n",
       "      <td>500</td>\n",
       "    </tr>\n",
       "    <tr>\n",
       "      <th>2017-01-01 01:54:38</th>\n",
       "      <td>1775305095</td>\n",
       "      <td>Octopeni Middle School: The Animated Series!</td>\n",
       "      <td>Film &amp; Video</td>\n",
       "      <td>USD</td>\n",
       "      <td>2017-01-31</td>\n",
       "      <td>canceled</td>\n",
       "      <td>1</td>\n",
       "      <td>US</td>\n",
       "      <td>750</td>\n",
       "      <td>16000</td>\n",
       "    </tr>\n",
       "    <tr>\n",
       "      <th>2017-01-01 02:30:35</th>\n",
       "      <td>20311028</td>\n",
       "      <td>\"As Long As I Have Breath\" - A Worship Single</td>\n",
       "      <td>Music</td>\n",
       "      <td>USD</td>\n",
       "      <td>2017-03-02</td>\n",
       "      <td>successful</td>\n",
       "      <td>6</td>\n",
       "      <td>US</td>\n",
       "      <td>500</td>\n",
       "      <td>500</td>\n",
       "    </tr>\n",
       "    <tr>\n",
       "      <th>2017-01-01 03:09:13</th>\n",
       "      <td>1068359973</td>\n",
       "      <td>Everette Hartsoe's HELL RIOT #0-ZOMBIE HUNTER ...</td>\n",
       "      <td>Comics</td>\n",
       "      <td>USD</td>\n",
       "      <td>2017-01-16</td>\n",
       "      <td>successful</td>\n",
       "      <td>84</td>\n",
       "      <td>US</td>\n",
       "      <td>4606</td>\n",
       "      <td>99</td>\n",
       "    </tr>\n",
       "    <tr>\n",
       "      <th>2017-01-01 03:28:13</th>\n",
       "      <td>244627194</td>\n",
       "      <td>The Real Thing - A 35mm Trans Short Film</td>\n",
       "      <td>Film &amp; Video</td>\n",
       "      <td>USD</td>\n",
       "      <td>2017-01-31</td>\n",
       "      <td>successful</td>\n",
       "      <td>77</td>\n",
       "      <td>US</td>\n",
       "      <td>10243</td>\n",
       "      <td>10000</td>\n",
       "    </tr>\n",
       "    <tr>\n",
       "      <th>2017-01-01 04:07:27</th>\n",
       "      <td>710220154</td>\n",
       "      <td>Getting my first book published</td>\n",
       "      <td>Publishing</td>\n",
       "      <td>USD</td>\n",
       "      <td>2017-02-10</td>\n",
       "      <td>failed</td>\n",
       "      <td>2</td>\n",
       "      <td>US</td>\n",
       "      <td>40</td>\n",
       "      <td>2500</td>\n",
       "    </tr>\n",
       "  </tbody>\n",
       "</table>\n",
       "</div>"
      ],
      "text/plain": [
       "                             ID  \\\n",
       "launched                          \n",
       "2017-01-01 00:35:20  1856478743   \n",
       "2017-01-01 00:52:32  1879437630   \n",
       "2017-01-01 01:40:17   297142419   \n",
       "2017-01-01 01:54:38  1775305095   \n",
       "2017-01-01 02:30:35    20311028   \n",
       "2017-01-01 03:09:13  1068359973   \n",
       "2017-01-01 03:28:13   244627194   \n",
       "2017-01-01 04:07:27   710220154   \n",
       "\n",
       "                                                                  name  \\\n",
       "launched                                                                 \n",
       "2017-01-01 00:35:20  Podcast \"El Valle de los Tercos\": Latinos en S...   \n",
       "2017-01-01 00:52:32                                  Resolute Magazine   \n",
       "2017-01-01 01:40:17         Pussycats: Sex, Drugs, & The Impossible #2   \n",
       "2017-01-01 01:54:38       Octopeni Middle School: The Animated Series!   \n",
       "2017-01-01 02:30:35      \"As Long As I Have Breath\" - A Worship Single   \n",
       "2017-01-01 03:09:13  Everette Hartsoe's HELL RIOT #0-ZOMBIE HUNTER ...   \n",
       "2017-01-01 03:28:13           The Real Thing - A 35mm Trans Short Film   \n",
       "2017-01-01 04:07:27                    Getting my first book published   \n",
       "\n",
       "                    main_category currency    deadline       state  backers  \\\n",
       "launched                                                                      \n",
       "2017-01-01 00:35:20    Journalism      USD  2017-02-06  successful       47   \n",
       "2017-01-01 00:52:32    Journalism      USD  2017-02-01  successful       16   \n",
       "2017-01-01 01:40:17        Comics      USD  2017-01-31  successful       59   \n",
       "2017-01-01 01:54:38  Film & Video      USD  2017-01-31    canceled        1   \n",
       "2017-01-01 02:30:35         Music      USD  2017-03-02  successful        6   \n",
       "2017-01-01 03:09:13        Comics      USD  2017-01-16  successful       84   \n",
       "2017-01-01 03:28:13  Film & Video      USD  2017-01-31  successful       77   \n",
       "2017-01-01 04:07:27    Publishing      USD  2017-02-10      failed        2   \n",
       "\n",
       "                    country  usd_pledged_real  usd_goal_real  \n",
       "launched                                                      \n",
       "2017-01-01 00:35:20      US              2028           1250  \n",
       "2017-01-01 00:52:32      US               502            500  \n",
       "2017-01-01 01:40:17      US              1089            500  \n",
       "2017-01-01 01:54:38      US               750          16000  \n",
       "2017-01-01 02:30:35      US               500            500  \n",
       "2017-01-01 03:09:13      US              4606             99  \n",
       "2017-01-01 03:28:13      US             10243          10000  \n",
       "2017-01-01 04:07:27      US                40           2500  "
      ]
     },
     "execution_count": 11,
     "metadata": {},
     "output_type": "execute_result"
    }
   ],
   "source": [
    "df[:8] # Gets first 8 rows in the new dataset"
   ]
  },
  {
   "cell_type": "code",
   "execution_count": 12,
   "metadata": {},
   "outputs": [
    {
     "data": {
      "text/html": [
       "<div>\n",
       "<style>\n",
       "    .dataframe thead tr:only-child th {\n",
       "        text-align: right;\n",
       "    }\n",
       "\n",
       "    .dataframe thead th {\n",
       "        text-align: left;\n",
       "    }\n",
       "\n",
       "    .dataframe tbody tr th {\n",
       "        vertical-align: top;\n",
       "    }\n",
       "</style>\n",
       "<table border=\"1\" class=\"dataframe\">\n",
       "  <thead>\n",
       "    <tr style=\"text-align: right;\">\n",
       "      <th></th>\n",
       "      <th>backers</th>\n",
       "      <th>usd_pledged_real</th>\n",
       "      <th>usd_goal_real</th>\n",
       "    </tr>\n",
       "  </thead>\n",
       "  <tbody>\n",
       "    <tr>\n",
       "      <th>count</th>\n",
       "      <td>4451.0</td>\n",
       "      <td>4451.0</td>\n",
       "      <td>4451.0</td>\n",
       "    </tr>\n",
       "    <tr>\n",
       "      <th>mean</th>\n",
       "      <td>117.0</td>\n",
       "      <td>9163.0</td>\n",
       "      <td>56993.0</td>\n",
       "    </tr>\n",
       "    <tr>\n",
       "      <th>std</th>\n",
       "      <td>658.0</td>\n",
       "      <td>53096.0</td>\n",
       "      <td>1659753.0</td>\n",
       "    </tr>\n",
       "    <tr>\n",
       "      <th>min</th>\n",
       "      <td>0.0</td>\n",
       "      <td>0.0</td>\n",
       "      <td>0.0</td>\n",
       "    </tr>\n",
       "    <tr>\n",
       "      <th>25%</th>\n",
       "      <td>1.0</td>\n",
       "      <td>22.0</td>\n",
       "      <td>1481.0</td>\n",
       "    </tr>\n",
       "    <tr>\n",
       "      <th>50%</th>\n",
       "      <td>10.0</td>\n",
       "      <td>460.0</td>\n",
       "      <td>5000.0</td>\n",
       "    </tr>\n",
       "    <tr>\n",
       "      <th>75%</th>\n",
       "      <td>53.0</td>\n",
       "      <td>3268.0</td>\n",
       "      <td>15000.0</td>\n",
       "    </tr>\n",
       "    <tr>\n",
       "      <th>max</th>\n",
       "      <td>22834.0</td>\n",
       "      <td>1364835.0</td>\n",
       "      <td>107369867.0</td>\n",
       "    </tr>\n",
       "  </tbody>\n",
       "</table>\n",
       "</div>"
      ],
      "text/plain": [
       "       backers  usd_pledged_real  usd_goal_real\n",
       "count   4451.0            4451.0         4451.0\n",
       "mean     117.0            9163.0        56993.0\n",
       "std      658.0           53096.0      1659753.0\n",
       "min        0.0               0.0            0.0\n",
       "25%        1.0              22.0         1481.0\n",
       "50%       10.0             460.0         5000.0\n",
       "75%       53.0            3268.0        15000.0\n",
       "max    22834.0         1364835.0    107369867.0"
      ]
     },
     "execution_count": 12,
     "metadata": {},
     "output_type": "execute_result"
    }
   ],
   "source": [
    "# Descriptive Stats\n",
    "\n",
    "stats = df.describe().round(0)\n",
    "stats = stats.drop(['ID'], axis=1)\n",
    "stats"
   ]
  },
  {
   "cell_type": "code",
   "execution_count": 13,
   "metadata": {},
   "outputs": [
    {
     "data": {
      "text/html": [
       "<div>\n",
       "<style>\n",
       "    .dataframe thead tr:only-child th {\n",
       "        text-align: right;\n",
       "    }\n",
       "\n",
       "    .dataframe thead th {\n",
       "        text-align: left;\n",
       "    }\n",
       "\n",
       "    .dataframe tbody tr th {\n",
       "        vertical-align: top;\n",
       "    }\n",
       "</style>\n",
       "<table border=\"1\" class=\"dataframe\">\n",
       "  <thead>\n",
       "    <tr style=\"text-align: right;\">\n",
       "      <th></th>\n",
       "      <th>backers</th>\n",
       "      <th>usd_pledged_real</th>\n",
       "      <th>usd_goal_real</th>\n",
       "    </tr>\n",
       "    <tr>\n",
       "      <th>main_category</th>\n",
       "      <th></th>\n",
       "      <th></th>\n",
       "      <th></th>\n",
       "    </tr>\n",
       "  </thead>\n",
       "  <tbody>\n",
       "    <tr>\n",
       "      <th>Design</th>\n",
       "      <td>116110</td>\n",
       "      <td>10337111</td>\n",
       "      <td>8455381</td>\n",
       "    </tr>\n",
       "    <tr>\n",
       "      <th>Games</th>\n",
       "      <td>172225</td>\n",
       "      <td>10252357</td>\n",
       "      <td>10377685</td>\n",
       "    </tr>\n",
       "    <tr>\n",
       "      <th>Technology</th>\n",
       "      <td>60527</td>\n",
       "      <td>8695736</td>\n",
       "      <td>49075219</td>\n",
       "    </tr>\n",
       "    <tr>\n",
       "      <th>Film &amp; Video</th>\n",
       "      <td>26841</td>\n",
       "      <td>2412268</td>\n",
       "      <td>148065464</td>\n",
       "    </tr>\n",
       "    <tr>\n",
       "      <th>Art</th>\n",
       "      <td>34188</td>\n",
       "      <td>1982292</td>\n",
       "      <td>4282344</td>\n",
       "    </tr>\n",
       "    <tr>\n",
       "      <th>Music</th>\n",
       "      <td>23826</td>\n",
       "      <td>1642050</td>\n",
       "      <td>11410471</td>\n",
       "    </tr>\n",
       "    <tr>\n",
       "      <th>Publishing</th>\n",
       "      <td>32974</td>\n",
       "      <td>1630588</td>\n",
       "      <td>3765495</td>\n",
       "    </tr>\n",
       "    <tr>\n",
       "      <th>Fashion</th>\n",
       "      <td>14239</td>\n",
       "      <td>1498790</td>\n",
       "      <td>3983527</td>\n",
       "    </tr>\n",
       "    <tr>\n",
       "      <th>Food</th>\n",
       "      <td>9692</td>\n",
       "      <td>867390</td>\n",
       "      <td>7762032</td>\n",
       "    </tr>\n",
       "    <tr>\n",
       "      <th>Comics</th>\n",
       "      <td>15164</td>\n",
       "      <td>544371</td>\n",
       "      <td>1603661</td>\n",
       "    </tr>\n",
       "    <tr>\n",
       "      <th>Photography</th>\n",
       "      <td>4786</td>\n",
       "      <td>351613</td>\n",
       "      <td>1194389</td>\n",
       "    </tr>\n",
       "    <tr>\n",
       "      <th>Theater</th>\n",
       "      <td>2718</td>\n",
       "      <td>174919</td>\n",
       "      <td>811161</td>\n",
       "    </tr>\n",
       "    <tr>\n",
       "      <th>Journalism</th>\n",
       "      <td>2514</td>\n",
       "      <td>158152</td>\n",
       "      <td>621737</td>\n",
       "    </tr>\n",
       "    <tr>\n",
       "      <th>Crafts</th>\n",
       "      <td>2821</td>\n",
       "      <td>149072</td>\n",
       "      <td>2013356</td>\n",
       "    </tr>\n",
       "    <tr>\n",
       "      <th>Dance</th>\n",
       "      <td>829</td>\n",
       "      <td>89059</td>\n",
       "      <td>252651</td>\n",
       "    </tr>\n",
       "  </tbody>\n",
       "</table>\n",
       "</div>"
      ],
      "text/plain": [
       "               backers  usd_pledged_real  usd_goal_real\n",
       "main_category                                          \n",
       "Design          116110          10337111        8455381\n",
       "Games           172225          10252357       10377685\n",
       "Technology       60527           8695736       49075219\n",
       "Film & Video     26841           2412268      148065464\n",
       "Art              34188           1982292        4282344\n",
       "Music            23826           1642050       11410471\n",
       "Publishing       32974           1630588        3765495\n",
       "Fashion          14239           1498790        3983527\n",
       "Food              9692            867390        7762032\n",
       "Comics           15164            544371        1603661\n",
       "Photography       4786            351613        1194389\n",
       "Theater           2718            174919         811161\n",
       "Journalism        2514            158152         621737\n",
       "Crafts            2821            149072        2013356\n",
       "Dance              829             89059         252651"
      ]
     },
     "execution_count": 13,
     "metadata": {},
     "output_type": "execute_result"
    }
   ],
   "source": [
    "# Grouped by category to get total backers in each category, total pledged, and total usd goal\n",
    "\n",
    "main_category = df.drop(['ID'], axis=1)\n",
    "main_category = main_category.groupby('main_category').sum()\n",
    "main_category = main_category.sort_values(by=['usd_pledged_real'], ascending=False)\n",
    "main_category"
   ]
  },
  {
   "cell_type": "code",
   "execution_count": 14,
   "metadata": {},
   "outputs": [
    {
     "data": {
      "text/plain": [
       "<matplotlib.text.Text at 0x10d26b950>"
      ]
     },
     "execution_count": 14,
     "metadata": {},
     "output_type": "execute_result"
    },
    {
     "data": {
      "image/png": "[encoded data removed]",
      "text/plain": [
       "<matplotlib.figure.Figure at 0x10d253410>"
      ]
     },
     "metadata": {},
     "output_type": "display_data"
    }
   ],
   "source": [
    "# Total pledged in each category\n",
    "\n",
    "main_category.plot(y='usd_pledged_real', kind='bar')\n",
    "plt.style.use('ggplot')\n",
    "plt.setp(plt.gca().get_xticklabels(), rotation=90, fontsize=12) #, horizontalalignment='right'\n",
    "plt.title('Total Pledged in each category', fontsize=15, fontname='DejaVu Sans')\n",
    "plt.ylabel('Total USD Pledged', fontsize=12, fontname='DejaVu Sans')\n",
    "plt.xlabel('Category', fontsize=12, fontname='DejaVu Sans')"
   ]
  },
  {
   "cell_type": "code",
   "execution_count": 15,
   "metadata": {},
   "outputs": [
    {
     "data": {
      "text/plain": [
       "<matplotlib.text.Text at 0x112d4fcd0>"
      ]
     },
     "execution_count": 15,
     "metadata": {},
     "output_type": "execute_result"
    },
    {
     "data": {
      "image/png": "[encoded data removed]",
      "text/plain": [
       "<matplotlib.figure.Figure at 0x10bf3e3d0>"
      ]
     },
     "metadata": {},
     "output_type": "display_data"
    }
   ],
   "source": [
    "usd_goal = file_opened.usd_goal_real\n",
    "scaled_data = minmax_scaling(usd_goal, columns = [0])\n",
    "\n",
    "# plot the original & scaled data together to compare\n",
    "fig, ax=plt.subplots(1,2)\n",
    "sns.distplot(file_opened.usd_goal_real, ax=ax[0])\n",
    "ax[0].set_title(\"Original Data\")\n",
    "sns.distplot(scaled_data, ax=ax[1])\n",
    "ax[1].set_title(\"Scaled data\")"
   ]
  },
  {
   "cell_type": "code",
   "execution_count": 18,
   "metadata": {
    "scrolled": true
   },
   "outputs": [
    {
     "data": {
      "text/plain": [
       "<matplotlib.text.Text at 0x11506f4d0>"
      ]
     },
     "execution_count": 18,
     "metadata": {},
     "output_type": "execute_result"
    },
    {
     "data": {
      "image/png": "[encoded data removed]",
      "text/plain": [
       "<matplotlib.figure.Figure at 0x10bf3e310>"
      ]
     },
     "metadata": {},
     "output_type": "display_data"
    }
   ],
   "source": [
    "# get the index of all positive pledges (Box-Cox only takes postive values)\n",
    "index_of_positive_pledges = file_opened.usd_pledged_real > 0\n",
    "\n",
    "# get only positive pledges (using their indexes)\n",
    "positive_pledges = file_opened.usd_pledged_real.loc[index_of_positive_pledges]\n",
    "\n",
    "# normalize the pledges (w/ Box-Cox)\n",
    "normalized_pledges = stats.boxcox(positive_pledges)[0]\n",
    "\n",
    "# plot both together to compare\n",
    "fig, ax=plt.subplots(1,2)\n",
    "sns.distplot(positive_pledges, ax=ax[0])\n",
    "ax[0].set_title(\"Original Data\")\n",
    "sns.distplot(normalized_pledges, ax=ax[1])\n",
    "ax[1].set_title(\"Normalized data\")"
   ]
  },
  {
   "cell_type": "code",
   "execution_count": null,
   "metadata": {},
   "outputs": [],
   "source": []
  }
 ],
 "metadata": {
  "kernelspec": {
   "display_name": "Python 3",
   "language": "python",
   "name": "python3"
  },
  "language_info": {
   "codemirror_mode": {
    "name": "ipython",
    "version": 2
   },
   "file_extension": ".py",
   "mimetype": "text/x-python",
   "name": "python",
   "nbconvert_exporter": "python",
   "pygments_lexer": "ipython2",
   "version": "2.7.15"
  }
 },
 "nbformat": 4,
 "nbformat_minor": 2
}
