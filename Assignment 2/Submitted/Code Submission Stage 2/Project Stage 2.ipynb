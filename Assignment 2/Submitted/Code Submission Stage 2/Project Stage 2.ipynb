{
 "cells": [
  {
   "cell_type": "markdown",
   "metadata": {},
   "source": [
    "# Project Stage 2: Machine Learning Models\n",
    "## Author: Karan Goda\n",
    "### Individual Project\n",
    "#### Analysis on Kickstarter with Pandas\n",
    "\n",
    "Contents:\n",
    "1. Data Processing\n",
    "2. Data Exploration\n",
    "3. Confidence Intervals\n",
    "4. Modelling\n",
    "5. Evaluation Models Q3 (Includes hypothesis of all models)\n",
    "\n",
    "Kickstarter is a global community that was founded in April 2009. Kickstarter allows people to invest in projects that\n",
    "they believe in, which are also created by other people who believe that their ideas will truly benefit the society. We can consider Kickstarter as a Crowdfunding organization that allows a group of people to back a project."
   ]
  },
  {
   "cell_type": "code",
   "execution_count": 1,
   "metadata": {},
   "outputs": [],
   "source": [
    "import warnings\n",
    "warnings.simplefilter('ignore')\n",
    "\n",
    "# Importing the libraries needed\n",
    "import pandas as pd\n",
    "from ipykernel import kernelapp as app\n",
    "import os\n",
    "import math\n",
    "import string\n",
    "import random\n",
    "import matplotlib\n",
    "import numpy as np\n",
    "import datetime as dt\n",
    "import matplotlib.pyplot as plt\n",
    "import matplotlib.ticker as mticker\n",
    "from scipy import stats # For Box-Cox Transformation\n",
    "from mlxtend.preprocessing import minmax_scaling # For min_max scaling\n",
    "import matplotlib.dates as mdates\n",
    "import seaborn as sns\n",
    "import scipy.stats as stats\n",
    "import scipy\n",
    "from collections import Counter\n",
    "import plotly.graph_objs as go\n",
    "import warnings\n",
    "import time\n",
    "%matplotlib inline"
   ]
  },
  {
   "cell_type": "code",
   "execution_count": 2,
   "metadata": {},
   "outputs": [],
   "source": [
    "# Hypothesis testing\n",
    "from scipy.stats import chi2\n",
    "\n",
    "def mcnemar(x, y):\n",
    "    n1 = np.sum(x < y)\n",
    "    n2 = np.sum(x > y)\n",
    "    stat = (np.abs(n1-n2)-1)**2 / (n1+n2)\n",
    "    df = 1\n",
    "    pval = chi2.sf(stat,1)\n",
    "    return stat, pval"
   ]
  },
  {
   "cell_type": "code",
   "execution_count": 3,
   "metadata": {},
   "outputs": [],
   "source": [
    "# Machine Learning\n",
    "import nltk\n",
    "import sklearn # Imports all the machine learning methods\n",
    "# The below sklearn imports are just for our understanding what libraries are included\n",
    "from sklearn import linear_model\n",
    "from sklearn.preprocessing import scale\n",
    "from sklearn.datasets import make_blobs\n",
    "from sklearn.cluster import KMeans\n",
    "from sklearn.linear_model import LogisticRegression\n",
    "from sklearn.svm import SVC, LinearSVC\n",
    "from sklearn.ensemble import RandomForestClassifier\n",
    "from sklearn.neighbors import KNeighborsClassifier\n",
    "from sklearn.naive_bayes import GaussianNB\n",
    "from sklearn.linear_model import SGDClassifier\n",
    "from sklearn.tree import DecisionTreeClassifier\n",
    "from sklearn.ensemble import BaggingClassifier\n",
    "from sklearn.neural_network import MLPClassifier\n",
    "from sklearn.ensemble import AdaBoostClassifier\n",
    "from sklearn.ensemble import GradientBoostingClassifier\n",
    "from sklearn.model_selection import train_test_split \n",
    "from sklearn.metrics import confusion_matrix, classification_report\n",
    "\n",
    "# Checking for accuracy score, precision, recall, and F1 score in the models\n",
    "from sklearn.metrics import accuracy_score\n",
    "from sklearn.metrics import recall_score\n",
    "from sklearn.metrics import precision_score\n",
    "from sklearn.metrics import f1_score\n",
    "\n",
    "#Stop warnings\n",
    "import warnings\n",
    "def ignore_warn(*args, **kwargs):\n",
    "    pass\n",
    "warnings.warn = ignore_warn"
   ]
  },
  {
   "cell_type": "code",
   "execution_count": 4,
   "metadata": {},
   "outputs": [
    {
     "name": "stdout",
     "output_type": "stream",
     "text": [
      "[u'seaborn-darkgrid', u'seaborn-notebook', u'classic', u'seaborn-ticks', u'grayscale', u'bmh', u'seaborn-talk', u'dark_background', u'ggplot', u'fivethirtyeight', u'_classic_test', u'seaborn-colorblind', u'seaborn-deep', u'seaborn-whitegrid', u'seaborn-bright', u'seaborn-poster', u'seaborn-muted', u'seaborn-paper', u'seaborn-white', u'seaborn-pastel', u'seaborn-dark', u'seaborn', u'seaborn-dark-palette']\n"
     ]
    }
   ],
   "source": [
    "# I want to know the available fonts\n",
    "print(plt.style.available)"
   ]
  },
  {
   "cell_type": "markdown",
   "metadata": {},
   "source": [
    "# Data Processing"
   ]
  },
  {
   "cell_type": "code",
   "execution_count": 5,
   "metadata": {},
   "outputs": [
    {
     "name": "stdout",
     "output_type": "stream",
     "text": [
      "Dataset Dimensions: (4451, 11)\n"
     ]
    }
   ],
   "source": [
    "# The file and path to locate the dataset\n",
    "kickstarter = ('transformed_kickstarter_2017.csv')\n",
    "\n",
    "# The csv file is stored as a dataframe in pandas.\n",
    "file_opened = pd.read_csv(kickstarter)\n",
    "dataframe = pd.DataFrame(file_opened)\n",
    "\n",
    "# Rows, columns\n",
    "print('Dataset Dimensions: ' + str(dataframe.shape))"
   ]
  },
  {
   "cell_type": "code",
   "execution_count": 6,
   "metadata": {},
   "outputs": [
    {
     "data": {
      "text/html": [
       "<div>\n",
       "<style>\n",
       "    .dataframe thead tr:only-child th {\n",
       "        text-align: right;\n",
       "    }\n",
       "\n",
       "    .dataframe thead th {\n",
       "        text-align: left;\n",
       "    }\n",
       "\n",
       "    .dataframe tbody tr th {\n",
       "        vertical-align: top;\n",
       "    }\n",
       "</style>\n",
       "<table border=\"1\" class=\"dataframe\">\n",
       "  <thead>\n",
       "    <tr style=\"text-align: right;\">\n",
       "      <th></th>\n",
       "      <th>launched</th>\n",
       "      <th>name</th>\n",
       "      <th>main_category</th>\n",
       "      <th>currency</th>\n",
       "      <th>deadline</th>\n",
       "      <th>state</th>\n",
       "      <th>backers</th>\n",
       "      <th>country</th>\n",
       "      <th>usd_pledged_real</th>\n",
       "      <th>usd_goal_real</th>\n",
       "      <th>days</th>\n",
       "    </tr>\n",
       "    <tr>\n",
       "      <th>ID</th>\n",
       "      <th></th>\n",
       "      <th></th>\n",
       "      <th></th>\n",
       "      <th></th>\n",
       "      <th></th>\n",
       "      <th></th>\n",
       "      <th></th>\n",
       "      <th></th>\n",
       "      <th></th>\n",
       "      <th></th>\n",
       "      <th></th>\n",
       "    </tr>\n",
       "  </thead>\n",
       "  <tbody>\n",
       "    <tr>\n",
       "      <th>1856478743</th>\n",
       "      <td>2017-01-01 00:35:20</td>\n",
       "      <td>Podcast \"El Valle de los Tercos\": Latinos en S...</td>\n",
       "      <td>Journalism</td>\n",
       "      <td>USD</td>\n",
       "      <td>2017-02-06</td>\n",
       "      <td>successful</td>\n",
       "      <td>47</td>\n",
       "      <td>US</td>\n",
       "      <td>2028</td>\n",
       "      <td>1250</td>\n",
       "      <td>35.0</td>\n",
       "    </tr>\n",
       "    <tr>\n",
       "      <th>1879437630</th>\n",
       "      <td>2017-01-01 00:52:32</td>\n",
       "      <td>Resolute Magazine</td>\n",
       "      <td>Journalism</td>\n",
       "      <td>USD</td>\n",
       "      <td>2017-02-01</td>\n",
       "      <td>successful</td>\n",
       "      <td>16</td>\n",
       "      <td>US</td>\n",
       "      <td>502</td>\n",
       "      <td>500</td>\n",
       "      <td>30.0</td>\n",
       "    </tr>\n",
       "    <tr>\n",
       "      <th>297142419</th>\n",
       "      <td>2017-01-01 01:40:17</td>\n",
       "      <td>Pussycats: Sex, Drugs, &amp; The Impossible #2</td>\n",
       "      <td>Comics</td>\n",
       "      <td>USD</td>\n",
       "      <td>2017-01-31</td>\n",
       "      <td>successful</td>\n",
       "      <td>59</td>\n",
       "      <td>US</td>\n",
       "      <td>1089</td>\n",
       "      <td>500</td>\n",
       "      <td>29.0</td>\n",
       "    </tr>\n",
       "    <tr>\n",
       "      <th>1775305095</th>\n",
       "      <td>2017-01-01 01:54:38</td>\n",
       "      <td>Octopeni Middle School: The Animated Series!</td>\n",
       "      <td>Film &amp; Video</td>\n",
       "      <td>USD</td>\n",
       "      <td>2017-01-31</td>\n",
       "      <td>canceled</td>\n",
       "      <td>1</td>\n",
       "      <td>US</td>\n",
       "      <td>750</td>\n",
       "      <td>16000</td>\n",
       "      <td>29.0</td>\n",
       "    </tr>\n",
       "    <tr>\n",
       "      <th>20311028</th>\n",
       "      <td>2017-01-01 02:30:35</td>\n",
       "      <td>\"As Long As I Have Breath\" - A Worship Single</td>\n",
       "      <td>Music</td>\n",
       "      <td>USD</td>\n",
       "      <td>2017-03-02</td>\n",
       "      <td>successful</td>\n",
       "      <td>6</td>\n",
       "      <td>US</td>\n",
       "      <td>500</td>\n",
       "      <td>500</td>\n",
       "      <td>59.0</td>\n",
       "    </tr>\n",
       "    <tr>\n",
       "      <th>1068359973</th>\n",
       "      <td>2017-01-01 03:09:13</td>\n",
       "      <td>Everette Hartsoe's HELL RIOT #0-ZOMBIE HUNTER ...</td>\n",
       "      <td>Comics</td>\n",
       "      <td>USD</td>\n",
       "      <td>2017-01-16</td>\n",
       "      <td>successful</td>\n",
       "      <td>84</td>\n",
       "      <td>US</td>\n",
       "      <td>4606</td>\n",
       "      <td>99</td>\n",
       "      <td>14.0</td>\n",
       "    </tr>\n",
       "    <tr>\n",
       "      <th>244627194</th>\n",
       "      <td>2017-01-01 03:28:13</td>\n",
       "      <td>The Real Thing - A 35mm Trans Short Film</td>\n",
       "      <td>Film &amp; Video</td>\n",
       "      <td>USD</td>\n",
       "      <td>2017-01-31</td>\n",
       "      <td>successful</td>\n",
       "      <td>77</td>\n",
       "      <td>US</td>\n",
       "      <td>10243</td>\n",
       "      <td>10000</td>\n",
       "      <td>29.0</td>\n",
       "    </tr>\n",
       "    <tr>\n",
       "      <th>710220154</th>\n",
       "      <td>2017-01-01 04:07:27</td>\n",
       "      <td>Getting my first book published</td>\n",
       "      <td>Publishing</td>\n",
       "      <td>USD</td>\n",
       "      <td>2017-02-10</td>\n",
       "      <td>failed</td>\n",
       "      <td>2</td>\n",
       "      <td>US</td>\n",
       "      <td>40</td>\n",
       "      <td>2500</td>\n",
       "      <td>39.0</td>\n",
       "    </tr>\n",
       "  </tbody>\n",
       "</table>\n",
       "</div>"
      ],
      "text/plain": [
       "                      launched  \\\n",
       "ID                               \n",
       "1856478743 2017-01-01 00:35:20   \n",
       "1879437630 2017-01-01 00:52:32   \n",
       "297142419  2017-01-01 01:40:17   \n",
       "1775305095 2017-01-01 01:54:38   \n",
       "20311028   2017-01-01 02:30:35   \n",
       "1068359973 2017-01-01 03:09:13   \n",
       "244627194  2017-01-01 03:28:13   \n",
       "710220154  2017-01-01 04:07:27   \n",
       "\n",
       "                                                         name main_category  \\\n",
       "ID                                                                            \n",
       "1856478743  Podcast \"El Valle de los Tercos\": Latinos en S...    Journalism   \n",
       "1879437630                                  Resolute Magazine    Journalism   \n",
       "297142419          Pussycats: Sex, Drugs, & The Impossible #2        Comics   \n",
       "1775305095       Octopeni Middle School: The Animated Series!  Film & Video   \n",
       "20311028        \"As Long As I Have Breath\" - A Worship Single         Music   \n",
       "1068359973  Everette Hartsoe's HELL RIOT #0-ZOMBIE HUNTER ...        Comics   \n",
       "244627194            The Real Thing - A 35mm Trans Short Film  Film & Video   \n",
       "710220154                     Getting my first book published    Publishing   \n",
       "\n",
       "           currency   deadline       state  backers country  usd_pledged_real  \\\n",
       "ID                                                                              \n",
       "1856478743      USD 2017-02-06  successful       47      US              2028   \n",
       "1879437630      USD 2017-02-01  successful       16      US               502   \n",
       "297142419       USD 2017-01-31  successful       59      US              1089   \n",
       "1775305095      USD 2017-01-31    canceled        1      US               750   \n",
       "20311028        USD 2017-03-02  successful        6      US               500   \n",
       "1068359973      USD 2017-01-16  successful       84      US              4606   \n",
       "244627194       USD 2017-01-31  successful       77      US             10243   \n",
       "710220154       USD 2017-02-10      failed        2      US                40   \n",
       "\n",
       "            usd_goal_real  days  \n",
       "ID                               \n",
       "1856478743           1250  35.0  \n",
       "1879437630            500  30.0  \n",
       "297142419             500  29.0  \n",
       "1775305095          16000  29.0  \n",
       "20311028              500  59.0  \n",
       "1068359973             99  14.0  \n",
       "244627194           10000  29.0  \n",
       "710220154            2500  39.0  "
      ]
     },
     "execution_count": 6,
     "metadata": {},
     "output_type": "execute_result"
    }
   ],
   "source": [
    "df = dataframe.set_index('ID') #[:1000]\n",
    "df['deadline'] = pd.to_datetime(df['deadline'])\n",
    "df['launched'] = pd.to_datetime(df['launched'])\n",
    "df['days'] = df['deadline'] - df['launched']\n",
    "df['days'] = df['days'].astype('timedelta64[D]')\n",
    "df[:8] # Gets first 8 rows in the new dataset"
   ]
  },
  {
   "cell_type": "code",
   "execution_count": 7,
   "metadata": {},
   "outputs": [
    {
     "data": {
      "text/html": [
       "<div>\n",
       "<style>\n",
       "    .dataframe thead tr:only-child th {\n",
       "        text-align: right;\n",
       "    }\n",
       "\n",
       "    .dataframe thead th {\n",
       "        text-align: left;\n",
       "    }\n",
       "\n",
       "    .dataframe tbody tr th {\n",
       "        vertical-align: top;\n",
       "    }\n",
       "</style>\n",
       "<table border=\"1\" class=\"dataframe\">\n",
       "  <thead>\n",
       "    <tr style=\"text-align: right;\">\n",
       "      <th></th>\n",
       "      <th>backers</th>\n",
       "      <th>usd_pledged_real</th>\n",
       "      <th>usd_goal_real</th>\n",
       "    </tr>\n",
       "  </thead>\n",
       "  <tbody>\n",
       "    <tr>\n",
       "      <th>count</th>\n",
       "      <td>4451.0</td>\n",
       "      <td>4451.0</td>\n",
       "      <td>4451.0</td>\n",
       "    </tr>\n",
       "    <tr>\n",
       "      <th>mean</th>\n",
       "      <td>117.0</td>\n",
       "      <td>9163.0</td>\n",
       "      <td>56993.0</td>\n",
       "    </tr>\n",
       "    <tr>\n",
       "      <th>std</th>\n",
       "      <td>658.0</td>\n",
       "      <td>53096.0</td>\n",
       "      <td>1659753.0</td>\n",
       "    </tr>\n",
       "    <tr>\n",
       "      <th>min</th>\n",
       "      <td>0.0</td>\n",
       "      <td>0.0</td>\n",
       "      <td>0.0</td>\n",
       "    </tr>\n",
       "    <tr>\n",
       "      <th>25%</th>\n",
       "      <td>1.0</td>\n",
       "      <td>22.0</td>\n",
       "      <td>1481.0</td>\n",
       "    </tr>\n",
       "    <tr>\n",
       "      <th>50%</th>\n",
       "      <td>10.0</td>\n",
       "      <td>460.0</td>\n",
       "      <td>5000.0</td>\n",
       "    </tr>\n",
       "    <tr>\n",
       "      <th>75%</th>\n",
       "      <td>53.0</td>\n",
       "      <td>3268.0</td>\n",
       "      <td>15000.0</td>\n",
       "    </tr>\n",
       "    <tr>\n",
       "      <th>max</th>\n",
       "      <td>22834.0</td>\n",
       "      <td>1364835.0</td>\n",
       "      <td>107369867.0</td>\n",
       "    </tr>\n",
       "  </tbody>\n",
       "</table>\n",
       "</div>"
      ],
      "text/plain": [
       "       backers  usd_pledged_real  usd_goal_real\n",
       "count   4451.0            4451.0         4451.0\n",
       "mean     117.0            9163.0        56993.0\n",
       "std      658.0           53096.0      1659753.0\n",
       "min        0.0               0.0            0.0\n",
       "25%        1.0              22.0         1481.0\n",
       "50%       10.0             460.0         5000.0\n",
       "75%       53.0            3268.0        15000.0\n",
       "max    22834.0         1364835.0    107369867.0"
      ]
     },
     "execution_count": 7,
     "metadata": {},
     "output_type": "execute_result"
    }
   ],
   "source": [
    "# Descriptive Stats\n",
    "stats = df.describe().round(0)\n",
    "stats = stats.drop(['days'], axis=1)\n",
    "stats"
   ]
  },
  {
   "cell_type": "code",
   "execution_count": 8,
   "metadata": {},
   "outputs": [
    {
     "data": {
      "text/html": [
       "<div>\n",
       "<style>\n",
       "    .dataframe thead tr:only-child th {\n",
       "        text-align: right;\n",
       "    }\n",
       "\n",
       "    .dataframe thead th {\n",
       "        text-align: left;\n",
       "    }\n",
       "\n",
       "    .dataframe tbody tr th {\n",
       "        vertical-align: top;\n",
       "    }\n",
       "</style>\n",
       "<table border=\"1\" class=\"dataframe\">\n",
       "  <thead>\n",
       "    <tr style=\"text-align: right;\">\n",
       "      <th></th>\n",
       "      <th>backers</th>\n",
       "      <th>usd_pledged_real</th>\n",
       "      <th>usd_goal_real</th>\n",
       "    </tr>\n",
       "    <tr>\n",
       "      <th>main_category</th>\n",
       "      <th></th>\n",
       "      <th></th>\n",
       "      <th></th>\n",
       "    </tr>\n",
       "  </thead>\n",
       "  <tbody>\n",
       "    <tr>\n",
       "      <th>Design</th>\n",
       "      <td>116110</td>\n",
       "      <td>10337111</td>\n",
       "      <td>8455381</td>\n",
       "    </tr>\n",
       "    <tr>\n",
       "      <th>Games</th>\n",
       "      <td>172225</td>\n",
       "      <td>10252357</td>\n",
       "      <td>10377685</td>\n",
       "    </tr>\n",
       "    <tr>\n",
       "      <th>Technology</th>\n",
       "      <td>60527</td>\n",
       "      <td>8695736</td>\n",
       "      <td>49075219</td>\n",
       "    </tr>\n",
       "    <tr>\n",
       "      <th>Film &amp; Video</th>\n",
       "      <td>26841</td>\n",
       "      <td>2412268</td>\n",
       "      <td>148065464</td>\n",
       "    </tr>\n",
       "    <tr>\n",
       "      <th>Art</th>\n",
       "      <td>34188</td>\n",
       "      <td>1982292</td>\n",
       "      <td>4282344</td>\n",
       "    </tr>\n",
       "    <tr>\n",
       "      <th>Music</th>\n",
       "      <td>23826</td>\n",
       "      <td>1642050</td>\n",
       "      <td>11410471</td>\n",
       "    </tr>\n",
       "    <tr>\n",
       "      <th>Publishing</th>\n",
       "      <td>32974</td>\n",
       "      <td>1630588</td>\n",
       "      <td>3765495</td>\n",
       "    </tr>\n",
       "    <tr>\n",
       "      <th>Fashion</th>\n",
       "      <td>14239</td>\n",
       "      <td>1498790</td>\n",
       "      <td>3983527</td>\n",
       "    </tr>\n",
       "    <tr>\n",
       "      <th>Food</th>\n",
       "      <td>9692</td>\n",
       "      <td>867390</td>\n",
       "      <td>7762032</td>\n",
       "    </tr>\n",
       "    <tr>\n",
       "      <th>Comics</th>\n",
       "      <td>15164</td>\n",
       "      <td>544371</td>\n",
       "      <td>1603661</td>\n",
       "    </tr>\n",
       "    <tr>\n",
       "      <th>Photography</th>\n",
       "      <td>4786</td>\n",
       "      <td>351613</td>\n",
       "      <td>1194389</td>\n",
       "    </tr>\n",
       "    <tr>\n",
       "      <th>Theater</th>\n",
       "      <td>2718</td>\n",
       "      <td>174919</td>\n",
       "      <td>811161</td>\n",
       "    </tr>\n",
       "    <tr>\n",
       "      <th>Journalism</th>\n",
       "      <td>2514</td>\n",
       "      <td>158152</td>\n",
       "      <td>621737</td>\n",
       "    </tr>\n",
       "    <tr>\n",
       "      <th>Crafts</th>\n",
       "      <td>2821</td>\n",
       "      <td>149072</td>\n",
       "      <td>2013356</td>\n",
       "    </tr>\n",
       "    <tr>\n",
       "      <th>Dance</th>\n",
       "      <td>829</td>\n",
       "      <td>89059</td>\n",
       "      <td>252651</td>\n",
       "    </tr>\n",
       "  </tbody>\n",
       "</table>\n",
       "</div>"
      ],
      "text/plain": [
       "               backers  usd_pledged_real  usd_goal_real\n",
       "main_category                                          \n",
       "Design          116110          10337111        8455381\n",
       "Games           172225          10252357       10377685\n",
       "Technology       60527           8695736       49075219\n",
       "Film & Video     26841           2412268      148065464\n",
       "Art              34188           1982292        4282344\n",
       "Music            23826           1642050       11410471\n",
       "Publishing       32974           1630588        3765495\n",
       "Fashion          14239           1498790        3983527\n",
       "Food              9692            867390        7762032\n",
       "Comics           15164            544371        1603661\n",
       "Photography       4786            351613        1194389\n",
       "Theater           2718            174919         811161\n",
       "Journalism        2514            158152         621737\n",
       "Crafts            2821            149072        2013356\n",
       "Dance              829             89059         252651"
      ]
     },
     "execution_count": 8,
     "metadata": {},
     "output_type": "execute_result"
    }
   ],
   "source": [
    "# Grouped by category to get total backers in each category, total pledged, and total usd goal\n",
    "main_category = df.drop(['days'], axis=1)\n",
    "main_category = main_category.groupby('main_category').sum()\n",
    "main_category = main_category.sort_values(by=['usd_pledged_real'], ascending=False)\n",
    "main_category"
   ]
  },
  {
   "cell_type": "markdown",
   "metadata": {},
   "source": [
    "# Data Exploration"
   ]
  },
  {
   "cell_type": "code",
   "execution_count": 9,
   "metadata": {},
   "outputs": [
    {
     "data": {
      "text/plain": [
       "<matplotlib.text.Text at 0x10b96f550>"
      ]
     },
     "execution_count": 9,
     "metadata": {},
     "output_type": "execute_result"
    },
    {
     "data": {
      "image/png": "[encoded data removed]",
      "text/plain": [
       "<matplotlib.figure.Figure at 0x10bbf1410>"
      ]
     },
     "metadata": {},
     "output_type": "display_data"
    }
   ],
   "source": [
    "# Total pledged in each category\n",
    "\n",
    "main_category.plot(y='usd_pledged_real', kind='bar')\n",
    "plt.style.use('ggplot')\n",
    "plt.setp(plt.gca().get_xticklabels(), rotation=90, fontsize=12) #, horizontalalignment='right'\n",
    "plt.title('Total Pledged in each category', fontsize=15, fontname='DejaVu Sans')\n",
    "plt.ylabel('Total USD Pledged', fontsize=12, fontname='DejaVu Sans')\n",
    "plt.xlabel('Category', fontsize=12, fontname='DejaVu Sans')"
   ]
  },
  {
   "cell_type": "code",
   "execution_count": 10,
   "metadata": {
    "scrolled": true
   },
   "outputs": [
    {
     "data": {
      "text/plain": [
       "<matplotlib.text.Text at 0x10bde5590>"
      ]
     },
     "execution_count": 10,
     "metadata": {},
     "output_type": "execute_result"
    },
    {
     "data": {
      "image/png": "[encoded data removed]",
      "text/plain": [
       "<matplotlib.figure.Figure at 0x10bbdded0>"
      ]
     },
     "metadata": {},
     "output_type": "display_data"
    }
   ],
   "source": [
    "# get the index of all positive pledges (Box-Cox only takes postive values)\n",
    "index_of_positive_pledges = file_opened.usd_pledged_real > 0\n",
    "\n",
    "# get only positive pledges (using their indexes)\n",
    "positive_pledges = file_opened.usd_pledged_real.loc[index_of_positive_pledges]\n",
    "\n",
    "# normalize the pledges (w/ Box-Cox)\n",
    "normalized_pledges = scipy.stats.boxcox(positive_pledges)[0]\n",
    "\n",
    "# plot both together to compare\n",
    "fig, ax=plt.subplots(1,2)\n",
    "sns.distplot(positive_pledges, ax=ax[0])\n",
    "ax[0].set_title(\"Original Data\")\n",
    "sns.distplot(normalized_pledges, ax=ax[1])\n",
    "ax[1].set_title(\"Normalized data\")"
   ]
  },
  {
   "cell_type": "code",
   "execution_count": 11,
   "metadata": {},
   "outputs": [
    {
     "name": "stdout",
     "output_type": "stream",
     "text": [
      "State Percentual in %: \n",
      "(failed        51.359245\n",
      "successful    36.171647\n",
      "canceled      11.817569\n",
      "suspended      0.629072\n",
      "live           0.022467\n",
      "Name: state, dtype: float64, 2)\n"
     ]
    }
   ],
   "source": [
    "# The projects split into funding success by percentages\n",
    "\n",
    "percentual_sucess = (dataframe[\"state\"].value_counts() / len(dataframe[\"state\"]) * 100,2)\n",
    "\n",
    "print(\"State Percentual in %: \")\n",
    "print(percentual_sucess)\n",
    "\n",
    "state = (dataframe[\"state\"].value_counts() / len(dataframe[\"state\"]) * 100,2)"
   ]
  },
  {
   "cell_type": "code",
   "execution_count": 12,
   "metadata": {},
   "outputs": [
    {
     "data": {
      "text/plain": [
       "[]"
      ]
     },
     "execution_count": 12,
     "metadata": {},
     "output_type": "execute_result"
    },
    {
     "data": {
      "image/png": "[encoded data removed]",
      "text/plain": [
       "<matplotlib.figure.Figure at 0x10c026910>"
      ]
     },
     "metadata": {},
     "output_type": "display_data"
    }
   ],
   "source": [
    "# The Days where the state occurred most commonly is the widest\n",
    "\n",
    "df = df[df.state.str.contains(\"live\") == False] # Removes live as it is junk in visualisation\n",
    "plt.figure(figsize=(10,5))\n",
    "sns.violinplot(x='state', y='days', data=df)\n",
    "plt.plot()"
   ]
  },
  {
   "cell_type": "markdown",
   "metadata": {},
   "source": [
    "# Computing the confidence interval\n",
    "\n",
    "We define a function to compute the confidence interval at a given level. For the level parameter, 0.95 corresponds to a 95% confidence interval.\n",
    "\n",
    "This will help us quantify reliability in our data\n"
   ]
  },
  {
   "cell_type": "code",
   "execution_count": 13,
   "metadata": {},
   "outputs": [],
   "source": [
    "def mean_confidence_interval(data, confidence):\n",
    "    a = 1.0 * np.array(data) # dataset\n",
    "    n = len(a) # number of values in dataset\n",
    "    m, se = np.mean(a), scipy.stats.sem(a) # m = mean, se = standard error/ margin of error\n",
    "    h = se * scipy.stats.t.ppf((1 + confidence) / 2., n-1)\n",
    "    return m, m-h, m+h"
   ]
  },
  {
   "cell_type": "code",
   "execution_count": 14,
   "metadata": {},
   "outputs": [
    {
     "name": "stdout",
     "output_type": "stream",
     "text": [
      "Confidence Interval of USD Pledged per project.\n",
      "Mean: 9163.28195911\n",
      "Low boundary: 7603.0076101\n",
      "High boundary: 10723.5563081\n"
     ]
    }
   ],
   "source": [
    "ci_usd_pledged_real = mean_confidence_interval(dataframe['usd_pledged_real'], 0.95)\n",
    "print('Confidence Interval of USD Pledged per project.')\n",
    "print('Mean: ' + str(ci_usd_pledged_real[0]))\n",
    "print('Low boundary: ' + str(ci_usd_pledged_real[1]))\n",
    "print('High boundary: ' + str(ci_usd_pledged_real[2]))"
   ]
  },
  {
   "cell_type": "code",
   "execution_count": 15,
   "metadata": {},
   "outputs": [
    {
     "name": "stdout",
     "output_type": "stream",
     "text": [
      "Confidence Interval of USD Goal per project.\n",
      "Mean: 56992.7146709\n",
      "Low boundary: 8219.56119875\n",
      "High boundary: 105765.868143\n"
     ]
    }
   ],
   "source": [
    "ci_usd_goal_real = mean_confidence_interval(dataframe['usd_goal_real'], 0.95)\n",
    "print('Confidence Interval of USD Goal per project.')\n",
    "print('Mean: ' + str(ci_usd_goal_real[0]))\n",
    "print('Low boundary: ' + str(ci_usd_goal_real[1]))\n",
    "print('High boundary: ' + str(ci_usd_goal_real[2]))"
   ]
  },
  {
   "cell_type": "code",
   "execution_count": 16,
   "metadata": {},
   "outputs": [
    {
     "name": "stdout",
     "output_type": "stream",
     "text": [
      "Confidence Interval of backers per project.\n",
      "Mean: 116.70501011\n",
      "Low boundary: 97.3774664095\n",
      "High boundary: 136.032553811\n"
     ]
    }
   ],
   "source": [
    "backers = mean_confidence_interval(dataframe['backers'], 0.95)\n",
    "print('Confidence Interval of backers per project.')\n",
    "print('Mean: ' + str(backers[0]))\n",
    "print('Low boundary: ' + str(backers[1]))\n",
    "print('High boundary: ' + str(backers[2]))"
   ]
  },
  {
   "cell_type": "markdown",
   "metadata": {},
   "source": [
    "# Modelling\n",
    "\n",
    "Our research questions are:\n",
    "- Q1. Do certain categories of projects have a higher success funding rate than others?\n",
    "- Q2. Are backers a good indicator to predict the USD pledged? \n",
    "- Q3. Are we able to use the project's features to predict if the project reaches funding or not?"
   ]
  },
  {
   "cell_type": "markdown",
   "metadata": {},
   "source": [
    "## Research question one:\n",
    "    ## Do certain categories from various countries of projects have a higher success funding rate than others\n"
   ]
  },
  {
   "cell_type": "code",
   "execution_count": 17,
   "metadata": {},
   "outputs": [],
   "source": [
    "# We are splitting the data into test and training\n",
    "q1 = df.drop(['name', 'currency', 'launched','deadline'], axis = 1)\n",
    "dummies = pd.get_dummies(data=q1, columns=['main_category', 'country'])\n",
    "\n",
    "X_train_q1, X_test_q1, y_train_q1, y_test_q1 = train_test_split(dummies.drop('state',axis=1), dummies['state'], test_size=0.25, random_state=101)"
   ]
  },
  {
   "cell_type": "markdown",
   "metadata": {},
   "source": [
    "##### Random Forest"
   ]
  },
  {
   "cell_type": "code",
   "execution_count": 18,
   "metadata": {},
   "outputs": [],
   "source": [
    "q1_forest = RandomForestClassifier(n_estimators=50, n_jobs=-1)\n",
    "q1_forest.fit(X_train_q1, y_train_q1)\n",
    "forest_predictions_q1 = q1_forest.predict(X_test_q1)"
   ]
  },
  {
   "cell_type": "markdown",
   "metadata": {},
   "source": [
    "##### Evaluation Model"
   ]
  },
  {
   "cell_type": "code",
   "execution_count": 19,
   "metadata": {},
   "outputs": [
    {
     "name": "stdout",
     "output_type": "stream",
     "text": [
      "Research Question 1 Evaluation: \n",
      "Classification Report: \n",
      "             precision    recall  f1-score   support\n",
      "\n",
      "   canceled       0.26      0.09      0.13       121\n",
      "     failed       0.82      0.89      0.86       577\n",
      " successful       0.90      0.98      0.94       410\n",
      "  suspended       0.00      0.00      0.00         5\n",
      "\n",
      "avg / total       0.79      0.83      0.80      1113\n",
      "\n",
      "\n",
      "Confusion Matrix: \n",
      "[[ 11 100   9   1]\n",
      " [ 31 515  31   0]\n",
      " [  0   9 400   1]\n",
      " [  0   3   2   0]]\n"
     ]
    }
   ],
   "source": [
    "print('Research Question 1 Evaluation: ')\n",
    "print('Classification Report: ')\n",
    "print(classification_report(y_test_q1, forest_predictions_q1))\n",
    "print('\\nConfusion Matrix: ')\n",
    "print(confusion_matrix(y_test_q1, forest_predictions_q1))"
   ]
  },
  {
   "cell_type": "markdown",
   "metadata": {},
   "source": [
    "## Research question two:\n",
    "    ## Are backers a good indicator to predict the USD pledged? \n",
    "    \n",
    "### Hypothesis testing\n",
    "- H0: There is a no correlation between backers and USD pledged.\n",
    "- H1: There is a positive correlation between backers and USD pledged.\n"
   ]
  },
  {
   "cell_type": "code",
   "execution_count": 20,
   "metadata": {},
   "outputs": [
    {
     "name": "stdout",
     "output_type": "stream",
     "text": [
      "(3691, 11)\n",
      "(3691, 1)\n",
      "(3691, 1)\n"
     ]
    }
   ],
   "source": [
    "non_zero = df[df['usd_pledged_real'] != 0]\n",
    "print(non_zero.shape)\n",
    "\n",
    "# Encode state column to binary\n",
    "# Define q2_X and q2_Y\n",
    "q2_X = non_zero[non_zero['usd_pledged_real'] != 0]['backers'].values\n",
    "q2_Y = non_zero[non_zero['usd_pledged_real'] != 0]['usd_pledged_real'].values\n",
    "\n",
    "q2_X = q2_X.reshape(3691, 1)\n",
    "q2_Y = q2_Y.reshape(3691, 1)\n",
    "\n",
    "print(q2_X.shape)\n",
    "print(q2_Y.shape)"
   ]
  },
  {
   "cell_type": "markdown",
   "metadata": {},
   "source": [
    "##### Linear Regression"
   ]
  },
  {
   "cell_type": "code",
   "execution_count": 21,
   "metadata": {},
   "outputs": [
    {
     "name": "stdout",
     "output_type": "stream",
     "text": [
      "Linear Regression Model: \n"
     ]
    },
    {
     "data": {
      "image/png": "[encoded data removed]",
      "text/plain": [
       "<matplotlib.figure.Figure at 0x10c06fd90>"
      ]
     },
     "metadata": {},
     "output_type": "display_data"
    }
   ],
   "source": [
    "# Backers & pledged amount - Linear Regression. Use backers to predict usd_pledged_real\n",
    "# Model fitting and visualization\n",
    "# Input (X): backers (logarithm)\n",
    "# Output (Y): usd_pledged_real (logarithm)\n",
    "\n",
    "regr = linear_model.LinearRegression()\n",
    "regr.fit(np.log(q2_X+1), np.log(q2_Y+1))\n",
    "\n",
    "print('Linear Regression Model: ')\n",
    "plt.scatter(np.log(q2_X+1), np.log(q2_Y+1))\n",
    "plt.plot(np.log(q2_X+1), regr.predict(np.log(q2_X+1)), color='yellow', linewidth=3)\n",
    "plt.show()"
   ]
  },
  {
   "cell_type": "code",
   "execution_count": 22,
   "metadata": {},
   "outputs": [
    {
     "name": "stdout",
     "output_type": "stream",
     "text": [
      "('error = ', 1.1122161648355882)\n",
      "('coefficient = ', array([[ 1.29730686]]))\n",
      "('intercept = ', array([ 2.64669395]))\n"
     ]
    }
   ],
   "source": [
    "# Loss estimation: mean squared error\n",
    "# Results: error and parameters\n",
    "y_pred_q2 = regr.predict(np.log(q2_X+1))\n",
    "y_true_q2 = np.log(q2_Y+1)\n",
    "\n",
    "print(\"error = \", sklearn.metrics.mean_squared_error(y_true_q2, y_pred_q2))\n",
    "print(\"coefficient = \", regr.coef_)\n",
    "print(\"intercept = \", regr.intercept_)"
   ]
  },
  {
   "cell_type": "markdown",
   "metadata": {},
   "source": [
    "#### Encode state column to binary\n",
    "\n",
    "- successful -> 1\n",
    "- failed -> 0\n",
    "- else -> delete"
   ]
  },
  {
   "cell_type": "code",
   "execution_count": 23,
   "metadata": {},
   "outputs": [
    {
     "name": "stdout",
     "output_type": "stream",
     "text": [
      "failed        2286\n",
      "successful    1610\n",
      "canceled       526\n",
      "suspended       28\n",
      "Name: state, dtype: int64\n",
      "\n",
      "('df.shape = ', (4450, 11))\n"
     ]
    }
   ],
   "source": [
    "print (df['state'].value_counts())\n",
    "print ('')\n",
    "print (\"df.shape = \", df.shape)"
   ]
  },
  {
   "cell_type": "code",
   "execution_count": 24,
   "metadata": {},
   "outputs": [],
   "source": [
    "def state_change(cell_value):\n",
    "    if cell_value == 'successful':\n",
    "        return 1\n",
    "    \n",
    "    elif cell_value == 'failed':\n",
    "        return 0\n",
    "    \n",
    "    else:\n",
    "        return 'del'"
   ]
  },
  {
   "cell_type": "code",
   "execution_count": 25,
   "metadata": {},
   "outputs": [
    {
     "name": "stdout",
     "output_type": "stream",
     "text": [
      "(1610, 11)\n",
      "(2286, 11)\n",
      "(554, 11)\n",
      "3896\n"
     ]
    }
   ],
   "source": [
    "q2 = df.copy()\n",
    "q2['state'] = q2['state'].apply(state_change)\n",
    "print (q2[q2['state'] == 1].shape)\n",
    "print (q2[q2['state'] == 0].shape)\n",
    "print (q2[q2['state'] == 'del'].shape)\n",
    "print (q2[q2['state'] == 1].shape[0] + q2[q2['state'] == 0].shape[0])"
   ]
  },
  {
   "cell_type": "markdown",
   "metadata": {},
   "source": [
    "#### Concatenate new DataFrame\n",
    "\n",
    "-  main_category\n",
    "-  time\n",
    "-  state"
   ]
  },
  {
   "cell_type": "code",
   "execution_count": 26,
   "metadata": {},
   "outputs": [
    {
     "name": "stdout",
     "output_type": "stream",
     "text": [
      "           main_category  days       state\n",
      "ID                                        \n",
      "1856478743    Journalism  35.0  successful\n",
      "1879437630    Journalism  30.0  successful\n"
     ]
    }
   ],
   "source": [
    "q2 = df.drop(df[df['state'] == 'del'].index)\n",
    "q2 = pd.concat([\n",
    "                  q2['main_category'],\n",
    "                  q2['days'],\n",
    "                  q2['state']], axis = 1\n",
    "                 )\n",
    "print(q2[:2])"
   ]
  },
  {
   "cell_type": "markdown",
   "metadata": {},
   "source": [
    "Data Split:\n",
    "- Train: 70%\n",
    "- Test: 30%"
   ]
  },
  {
   "cell_type": "code",
   "execution_count": 27,
   "metadata": {},
   "outputs": [
    {
     "name": "stdout",
     "output_type": "stream",
     "text": [
      "('Train shape = ', (3691, 3), '82.9438202247%')\n",
      "('Test shape = ', (759, 3), '17.0561797753%')\n"
     ]
    }
   ],
   "source": [
    "# Model Two Datasets \n",
    "# Seems clean enough to get some dummies for categorical variables\n",
    "\n",
    "train, test = sklearn.model_selection.train_test_split(q2, test_size = 0.1705, random_state = 42)\n",
    "print(\"Train shape = \", train.shape, str(len(train)/float(len(q2)) * 100) + \"%\")\n",
    "print(\"Test shape = \", test.shape, str(len(test)/float(len(q2)) * 100) + \"%\")"
   ]
  },
  {
   "cell_type": "code",
   "execution_count": 28,
   "metadata": {},
   "outputs": [],
   "source": [
    "# Define X and Y datas\n",
    "\n",
    "# Data is split into test and training data\n",
    "X_train_q2 = pd.concat(\n",
    "    [\n",
    "     pd.get_dummies(train['main_category'], prefix = 'main_category'),\n",
    "     train[\"days\"]\n",
    "    ], axis=1)\n",
    "\n",
    "X_test_q2 = pd.concat(\n",
    "    [\n",
    "     pd.get_dummies(test['main_category'], prefix = 'main_category'),\n",
    "     test[\"days\"]\n",
    "    ], axis=1)\n",
    "\n",
    "y_train_q2 = train['state']\n",
    "\n",
    "y_test_q2 = test['state']"
   ]
  },
  {
   "cell_type": "markdown",
   "metadata": {},
   "source": [
    "##### Random Forest"
   ]
  },
  {
   "cell_type": "code",
   "execution_count": 29,
   "metadata": {},
   "outputs": [],
   "source": [
    "# Project state prediction - Random Forest\n",
    "\n",
    "for_record = {\n",
    "    'baseline':{},\n",
    "}\n",
    "\n",
    "start = time.time()\n",
    "end = time.time()\n",
    "sec = end - start\n",
    "q2_forest = RandomForestClassifier(random_state = 42)\n",
    "q2_forest.fit(X_train_q2, y_train_q2)\n",
    "forest_predictions_q2 = q2_forest.predict(X_train_q2)"
   ]
  },
  {
   "cell_type": "markdown",
   "metadata": {},
   "source": [
    "##### Evaluation Model"
   ]
  },
  {
   "cell_type": "code",
   "execution_count": 30,
   "metadata": {},
   "outputs": [
    {
     "name": "stdout",
     "output_type": "stream",
     "text": [
      "Research Question 2 Evaluation: \n",
      "Report: \n",
      "{'baseline': {'test_score': 0.52964426877470361, 'train_score': 0.61609319967488485, 'params': {'warm_start': False, 'oob_score': False, 'n_jobs': 1, 'min_impurity_decrease': 0.0, 'verbose': 0, 'max_leaf_nodes': None, 'bootstrap': True, 'min_samples_leaf': 1, 'n_estimators': 10, 'min_samples_split': 2, 'min_weight_fraction_leaf': 0.0, 'criterion': 'gini', 'random_state': 42, 'min_impurity_split': None, 'max_features': 'auto', 'max_depth': None, 'class_weight': None}, 'time': 4.9114227294921875e-05}}\n",
      "\n",
      "Confusion Matrix: \n",
      "[[  53  318   62    1]\n",
      " [  16 1686  197    1]\n",
      " [  23  778  532    2]\n",
      " [   0   18    1    3]]\n"
     ]
    }
   ],
   "source": [
    "# print(classification_report(y_test, q2_forest))\n",
    "\n",
    "for_record['baseline']['params'] = q2_forest.get_params()\n",
    "for_record['baseline']['time'] = sec\n",
    "for_record['baseline'][\"train_score\"] = q2_forest.score(X_train_q2, y_train_q2)\n",
    "for_record['baseline']['test_score'] = q2_forest.score(X_test_q2, y_test_q2)\n",
    "# for_record['baseline']['f1'] = sklearn.metrics.f1_score(y_train_q2, y_pred_q2, average = 'weighted')\n",
    "\n",
    "print('Research Question 2 Evaluation: ')\n",
    "print('Report: ')\n",
    "print(for_record)\n",
    "print('\\nConfusion Matrix: ')\n",
    "print(confusion_matrix(y_train_q2, forest_predictions_q2))"
   ]
  },
  {
   "cell_type": "markdown",
   "metadata": {},
   "source": [
    "## Research Question three: \n",
    "     ## 3. Are we able to use the project’s features such as country or category to predict if the project reaches   funding or not.\n"
   ]
  },
  {
   "cell_type": "code",
   "execution_count": 31,
   "metadata": {},
   "outputs": [
    {
     "name": "stdout",
     "output_type": "stream",
     "text": [
      "(3896, 11)\n",
      "(3896, 7)\n"
     ]
    }
   ],
   "source": [
    "# Preparing data\n",
    "df2 = pd.read_csv('transformed_kickstarter_2017.csv', encoding='utf-8')\n",
    "\n",
    "df2 = df2[(df2['state'] == 'failed') | (df2['state'] == 'successful')].copy()\n",
    "print(df2.shape)\n",
    "\n",
    "# Columns to remove\n",
    "df2 = df2.drop('ID', 1)    \n",
    "df2 = df2.drop('name', 1)\n",
    "df2 = df2.drop('usd_pledged_real', 1)\n",
    "df2 = df2.drop('backers', 1)\n",
    "print(df2.shape)"
   ]
  },
  {
   "cell_type": "code",
   "execution_count": 32,
   "metadata": {},
   "outputs": [],
   "source": [
    "# Create new columns\n",
    "# 'duration_days' = 'deadline' - 'launched'\n",
    "\n",
    "df2['launched'] = pd.to_datetime(df2['launched'])\n",
    "df2['deadline'] = pd.to_datetime(df2['deadline'])\n",
    "\n",
    "df2['days'] = df2['deadline'].subtract(df2['launched'])\n",
    "df2['days'] = df2['days'].astype('timedelta64[D]')\n",
    "\n",
    "# These columns are not needed now\n",
    "df2 = df2.drop('launched', 1)\n",
    "df2 = df2.drop('deadline', 1)"
   ]
  },
  {
   "cell_type": "code",
   "execution_count": 33,
   "metadata": {},
   "outputs": [
    {
     "name": "stdout",
     "output_type": "stream",
     "text": [
      "(3043, 6)\n"
     ]
    },
    {
     "data": {
      "text/html": [
       "<div>\n",
       "<style>\n",
       "    .dataframe thead tr:only-child th {\n",
       "        text-align: right;\n",
       "    }\n",
       "\n",
       "    .dataframe thead th {\n",
       "        text-align: left;\n",
       "    }\n",
       "\n",
       "    .dataframe tbody tr th {\n",
       "        vertical-align: top;\n",
       "    }\n",
       "</style>\n",
       "<table border=\"1\" class=\"dataframe\">\n",
       "  <thead>\n",
       "    <tr style=\"text-align: right;\">\n",
       "      <th></th>\n",
       "      <th>main_category</th>\n",
       "      <th>currency</th>\n",
       "      <th>state</th>\n",
       "      <th>country</th>\n",
       "      <th>usd_goal_real</th>\n",
       "      <th>days</th>\n",
       "    </tr>\n",
       "  </thead>\n",
       "  <tbody>\n",
       "    <tr>\n",
       "      <th>0</th>\n",
       "      <td>Journalism</td>\n",
       "      <td>USD</td>\n",
       "      <td>successful</td>\n",
       "      <td>US</td>\n",
       "      <td>1250</td>\n",
       "      <td>35.0</td>\n",
       "    </tr>\n",
       "    <tr>\n",
       "      <th>6</th>\n",
       "      <td>Film &amp; Video</td>\n",
       "      <td>USD</td>\n",
       "      <td>successful</td>\n",
       "      <td>US</td>\n",
       "      <td>10000</td>\n",
       "      <td>29.0</td>\n",
       "    </tr>\n",
       "    <tr>\n",
       "      <th>7</th>\n",
       "      <td>Publishing</td>\n",
       "      <td>USD</td>\n",
       "      <td>failed</td>\n",
       "      <td>US</td>\n",
       "      <td>2500</td>\n",
       "      <td>39.0</td>\n",
       "    </tr>\n",
       "    <tr>\n",
       "      <th>10</th>\n",
       "      <td>Publishing</td>\n",
       "      <td>AUD</td>\n",
       "      <td>successful</td>\n",
       "      <td>AU</td>\n",
       "      <td>7161</td>\n",
       "      <td>19.0</td>\n",
       "    </tr>\n",
       "    <tr>\n",
       "      <th>11</th>\n",
       "      <td>Fashion</td>\n",
       "      <td>USD</td>\n",
       "      <td>failed</td>\n",
       "      <td>US</td>\n",
       "      <td>7400</td>\n",
       "      <td>29.0</td>\n",
       "    </tr>\n",
       "  </tbody>\n",
       "</table>\n",
       "</div>"
      ],
      "text/plain": [
       "   main_category currency       state country  usd_goal_real  days\n",
       "0     Journalism      USD  successful      US           1250  35.0\n",
       "6   Film & Video      USD  successful      US          10000  29.0\n",
       "7     Publishing      USD      failed      US           2500  39.0\n",
       "10    Publishing      AUD  successful      AU           7161  19.0\n",
       "11       Fashion      USD      failed      US           7400  29.0"
      ]
     },
     "execution_count": 33,
     "metadata": {},
     "output_type": "execute_result"
    }
   ],
   "source": [
    "df2 = df2[(df2['usd_goal_real'] <= 100000) & (df2['usd_goal_real'] >= 1000)].copy()\n",
    "print(df2.shape)\n",
    "df2.head()"
   ]
  },
  {
   "cell_type": "code",
   "execution_count": 34,
   "metadata": {},
   "outputs": [
    {
     "name": "stdout",
     "output_type": "stream",
     "text": [
      "Index([                    u'state',             u'usd_goal_real',\n",
      "                            u'days',         u'main_category_Art',\n",
      "            u'main_category_Comics',      u'main_category_Crafts',\n",
      "             u'main_category_Dance',      u'main_category_Design',\n",
      "           u'main_category_Fashion',        u'main_category_Film',\n",
      "              u'main_category_Food',       u'main_category_Games',\n",
      "        u'main_category_Journalism',       u'main_category_Music',\n",
      "       u'main_category_Photography',  u'main_category_Publishing',\n",
      "        u'main_category_Technology',     u'main_category_Theater',\n",
      "                    u'currency_AUD',              u'currency_CAD',\n",
      "                    u'currency_CHF',              u'currency_DKK',\n",
      "                    u'currency_EUR',              u'currency_GBP',\n",
      "                    u'currency_HKD',              u'currency_MXN',\n",
      "                    u'currency_NOK',              u'currency_NZD',\n",
      "                    u'currency_SEK',              u'currency_SGD',\n",
      "                    u'currency_USD',                u'country_AT',\n",
      "                      u'country_AU',                u'country_BE',\n",
      "                      u'country_CA',                u'country_CH',\n",
      "                      u'country_DE',                u'country_DK',\n",
      "                      u'country_ES',                u'country_FR',\n",
      "                      u'country_GB',                u'country_HK',\n",
      "                      u'country_IE',                u'country_IT',\n",
      "                      u'country_LU',                u'country_MX',\n",
      "                      u'country_NL',                u'country_NO',\n",
      "                      u'country_NZ',                u'country_SE',\n",
      "                      u'country_SG',                u'country_US'],\n",
      "      dtype='object')\n",
      "(3043, 52)\n"
     ]
    }
   ],
   "source": [
    "# Encoding column 'category'\n",
    "df2 = pd.get_dummies(df2, columns = ['main_category'])\n",
    "df2.rename(columns={\"main_category_Film & Video\": \"main_category_Film\"}, inplace=True)\n",
    "\n",
    "# Encoding column 'currency'\n",
    "df2 = pd.get_dummies(df2, columns = ['currency'])\n",
    "\n",
    "# Encoding column 'country'\n",
    "df2 = pd.get_dummies(df2, columns=['country'])\n",
    "\n",
    "print(df2.columns)\n",
    "print(df2.shape)\n"
   ]
  },
  {
   "cell_type": "code",
   "execution_count": 35,
   "metadata": {},
   "outputs": [
    {
     "name": "stdout",
     "output_type": "stream",
     "text": [
      "(3896, 2)\n"
     ]
    }
   ],
   "source": [
    "q3 = pd.read_csv('transformed_kickstarter_2017.csv', encoding='utf-8')\n",
    "\n",
    "# We use only 'name' & 'state'\n",
    "q3 = q3.drop(['main_category', 'currency', 'deadline', \n",
    "              'launched','backers', 'country', 'usd_pledged_real', 'usd_goal_real', 'ID'], 1)\n",
    "\n",
    "q3 = q3[(q3['state'] == 'failed') | (q3['state'] == 'successful')].copy()\n",
    "\n",
    "# Encoding column 'state'\n",
    "# failed = 0, successful = 1\n",
    "q3['state'] = q3['state'].map({\n",
    "        'failed': 0,\n",
    "        'successful': 1         \n",
    "})\n",
    "\n",
    "print(q3.shape)"
   ]
  },
  {
   "cell_type": "code",
   "execution_count": 36,
   "metadata": {},
   "outputs": [
    {
     "data": {
      "text/html": [
       "<div>\n",
       "<style>\n",
       "    .dataframe thead tr:only-child th {\n",
       "        text-align: right;\n",
       "    }\n",
       "\n",
       "    .dataframe thead th {\n",
       "        text-align: left;\n",
       "    }\n",
       "\n",
       "    .dataframe tbody tr th {\n",
       "        vertical-align: top;\n",
       "    }\n",
       "</style>\n",
       "<table border=\"1\" class=\"dataframe\">\n",
       "  <thead>\n",
       "    <tr style=\"text-align: right;\">\n",
       "      <th></th>\n",
       "      <th>name</th>\n",
       "      <th>state</th>\n",
       "    </tr>\n",
       "  </thead>\n",
       "  <tbody>\n",
       "    <tr>\n",
       "      <th>0</th>\n",
       "      <td>[Podcast, \"El, Valle, de, los, Tercos\":, Latin...</td>\n",
       "      <td>1</td>\n",
       "    </tr>\n",
       "    <tr>\n",
       "      <th>1</th>\n",
       "      <td>[Resolute, Magazine]</td>\n",
       "      <td>1</td>\n",
       "    </tr>\n",
       "    <tr>\n",
       "      <th>2</th>\n",
       "      <td>[Pussycats:, Sex,, Drugs,, &amp;, The, Impossible,...</td>\n",
       "      <td>1</td>\n",
       "    </tr>\n",
       "    <tr>\n",
       "      <th>4</th>\n",
       "      <td>[\"As, Long, As, I, Have, Breath\", -, A, Worshi...</td>\n",
       "      <td>1</td>\n",
       "    </tr>\n",
       "    <tr>\n",
       "      <th>5</th>\n",
       "      <td>[Everette, Hartsoe's, HELL, RIOT, #0-ZOMBIE, H...</td>\n",
       "      <td>1</td>\n",
       "    </tr>\n",
       "  </tbody>\n",
       "</table>\n",
       "</div>"
      ],
      "text/plain": [
       "                                                name  state\n",
       "0  [Podcast, \"El, Valle, de, los, Tercos\":, Latin...      1\n",
       "1                               [Resolute, Magazine]      1\n",
       "2  [Pussycats:, Sex,, Drugs,, &, The, Impossible,...      1\n",
       "4  [\"As, Long, As, I, Have, Breath\", -, A, Worshi...      1\n",
       "5  [Everette, Hartsoe's, HELL, RIOT, #0-ZOMBIE, H...      1"
      ]
     },
     "execution_count": 36,
     "metadata": {},
     "output_type": "execute_result"
    }
   ],
   "source": [
    "# column 'state' to int\n",
    "# q3['state'] = q3['state'].astype(int)\n",
    "\n",
    "# split each \"name\"\n",
    "q3['name'] = q3['name'].str.split()\n",
    "q3.head()"
   ]
  },
  {
   "cell_type": "code",
   "execution_count": 37,
   "metadata": {},
   "outputs": [],
   "source": [
    "# clean each name. We need 'name' without punctuation\n",
    "\n",
    "q3['name'] = q3['name'].apply(lambda x:' '.join([i for i in x if i not in string.punctuation]))\n",
    "\n",
    "# all words have small letters\n",
    "\n",
    "q3['name'] = q3['name'].str.lower()\n",
    "# q3['name'] = q3['name'].index.str.encode('utf-8')\n",
    "# Filter out Stop Words\n",
    "# Import stopwords with nltk.\n",
    "\n",
    "from nltk.corpus import stopwords\n",
    "stop = stopwords.words('english')\n",
    "\n",
    "q3['name'] = q3['name'].apply(lambda x: ' '.join([word for word in x.split() if word not in (stop)]))"
   ]
  },
  {
   "cell_type": "code",
   "execution_count": 38,
   "metadata": {},
   "outputs": [
    {
     "data": {
      "text/html": [
       "<div>\n",
       "<style>\n",
       "    .dataframe thead tr:only-child th {\n",
       "        text-align: right;\n",
       "    }\n",
       "\n",
       "    .dataframe thead th {\n",
       "        text-align: left;\n",
       "    }\n",
       "\n",
       "    .dataframe tbody tr th {\n",
       "        vertical-align: top;\n",
       "    }\n",
       "</style>\n",
       "<table border=\"1\" class=\"dataframe\">\n",
       "  <thead>\n",
       "    <tr style=\"text-align: right;\">\n",
       "      <th></th>\n",
       "      <th>name</th>\n",
       "      <th>state</th>\n",
       "    </tr>\n",
       "  </thead>\n",
       "  <tbody>\n",
       "    <tr>\n",
       "      <th>0</th>\n",
       "      <td>[podcast, \"el, valle, de, los, tercos\":, latin...</td>\n",
       "      <td>1</td>\n",
       "    </tr>\n",
       "    <tr>\n",
       "      <th>1</th>\n",
       "      <td>[resolute, magazine]</td>\n",
       "      <td>1</td>\n",
       "    </tr>\n",
       "    <tr>\n",
       "      <th>2</th>\n",
       "      <td>[pussycats:, sex,, drugs,, impossible, #2]</td>\n",
       "      <td>1</td>\n",
       "    </tr>\n",
       "    <tr>\n",
       "      <th>4</th>\n",
       "      <td>[\"as, long, breath\", worship, single]</td>\n",
       "      <td>1</td>\n",
       "    </tr>\n",
       "    <tr>\n",
       "      <th>5</th>\n",
       "      <td>[everette, hartsoe's, hell, riot, #0-zombie, h...</td>\n",
       "      <td>1</td>\n",
       "    </tr>\n",
       "  </tbody>\n",
       "</table>\n",
       "</div>"
      ],
      "text/plain": [
       "                                                name  state\n",
       "0  [podcast, \"el, valle, de, los, tercos\":, latin...      1\n",
       "1                               [resolute, magazine]      1\n",
       "2         [pussycats:, sex,, drugs,, impossible, #2]      1\n",
       "4              [\"as, long, breath\", worship, single]      1\n",
       "5  [everette, hartsoe's, hell, riot, #0-zombie, h...      1"
      ]
     },
     "execution_count": 38,
     "metadata": {},
     "output_type": "execute_result"
    }
   ],
   "source": [
    "q3['name'] = q3['name'].str.split()\n",
    "q3.head()"
   ]
  },
  {
   "cell_type": "code",
   "execution_count": 39,
   "metadata": {},
   "outputs": [
    {
     "data": {
      "text/html": [
       "<div>\n",
       "<style>\n",
       "    .dataframe thead tr:only-child th {\n",
       "        text-align: right;\n",
       "    }\n",
       "\n",
       "    .dataframe thead th {\n",
       "        text-align: left;\n",
       "    }\n",
       "\n",
       "    .dataframe tbody tr th {\n",
       "        vertical-align: top;\n",
       "    }\n",
       "</style>\n",
       "<table border=\"1\" class=\"dataframe\">\n",
       "  <thead>\n",
       "    <tr style=\"text-align: right;\">\n",
       "      <th></th>\n",
       "      <th>name</th>\n",
       "      <th>state</th>\n",
       "    </tr>\n",
       "  </thead>\n",
       "  <tbody>\n",
       "    <tr>\n",
       "      <th>0</th>\n",
       "      <td>[podcast, \"el, vall, de, los, tercos\":, latino...</td>\n",
       "      <td>1</td>\n",
       "    </tr>\n",
       "    <tr>\n",
       "      <th>1</th>\n",
       "      <td>[resolut, magazin]</td>\n",
       "      <td>1</td>\n",
       "    </tr>\n",
       "    <tr>\n",
       "      <th>2</th>\n",
       "      <td>[pussycats:, sex,, drugs,, imposs, #2]</td>\n",
       "      <td>1</td>\n",
       "    </tr>\n",
       "    <tr>\n",
       "      <th>4</th>\n",
       "      <td>[\"as, long, breath\", worship, singl]</td>\n",
       "      <td>1</td>\n",
       "    </tr>\n",
       "    <tr>\n",
       "      <th>5</th>\n",
       "      <td>[everett, hartso, hell, riot, #0-zombi, hunter...</td>\n",
       "      <td>1</td>\n",
       "    </tr>\n",
       "  </tbody>\n",
       "</table>\n",
       "</div>"
      ],
      "text/plain": [
       "                                                name  state\n",
       "0  [podcast, \"el, vall, de, los, tercos\":, latino...      1\n",
       "1                                 [resolut, magazin]      1\n",
       "2             [pussycats:, sex,, drugs,, imposs, #2]      1\n",
       "4               [\"as, long, breath\", worship, singl]      1\n",
       "5  [everett, hartso, hell, riot, #0-zombi, hunter...      1"
      ]
     },
     "execution_count": 39,
     "metadata": {},
     "output_type": "execute_result"
    }
   ],
   "source": [
    "# Stem Words\n",
    "# Stemming refers to the process of reducing each word to its root or base.\n",
    "\n",
    "from nltk.stem.snowball import SnowballStemmer\n",
    "stemmer = SnowballStemmer(\"english\")\n",
    "\n",
    "q3['name'] = q3['name'].apply(lambda x: [stemmer.stem(y) for y in x])\n",
    "\n",
    "q3.head()"
   ]
  },
  {
   "cell_type": "code",
   "execution_count": 40,
   "metadata": {},
   "outputs": [],
   "source": [
    "from sklearn.feature_extraction.text import CountVectorizer\n",
    "vectorizer = CountVectorizer()\n",
    "\n",
    "bag_of_words = CountVectorizer(tokenizer=lambda doc: doc, lowercase=False).fit_transform(q3['name'])"
   ]
  },
  {
   "cell_type": "code",
   "execution_count": 41,
   "metadata": {},
   "outputs": [
    {
     "name": "stdout",
     "output_type": "stream",
     "text": [
      "(3043, 52)\n",
      "(3043,)\n"
     ]
    }
   ],
   "source": [
    "# Preparing for modelling\n",
    "\n",
    "df2['state'] = df2['state'].map({\n",
    "        'failed': 0,\n",
    "        'successful': 1         \n",
    "})\n",
    "\n",
    "print(df2.shape)\n",
    "df2.head()\n",
    "\n",
    "q3_y = df2['state']\n",
    "\n",
    "print(q3_y.shape)\n",
    "q3_y.head(5)\n",
    "\n",
    "df2 = df2.drop('state', 1)"
   ]
  },
  {
   "cell_type": "code",
   "execution_count": 42,
   "metadata": {},
   "outputs": [
    {
     "name": "stdout",
     "output_type": "stream",
     "text": [
      "((2738, 51), (2738,))\n",
      "((305, 51), (305,))\n"
     ]
    }
   ],
   "source": [
    "# Split dataframe into random train and test subsets\n",
    "\n",
    "X_train_q3, X_test_q3, y_train_q3, y_test_q3 = train_test_split(\n",
    "    df2,\n",
    "    q3_y, \n",
    "    test_size = 0.1,\n",
    "    random_state=42\n",
    ")\n",
    "\n",
    "print(X_train_q3.shape, y_train_q3.shape)\n",
    "print(X_test_q3.shape, y_test_q3.shape)"
   ]
  },
  {
   "cell_type": "markdown",
   "metadata": {},
   "source": [
    "##### Each feature and its correlation"
   ]
  },
  {
   "cell_type": "code",
   "execution_count": 43,
   "metadata": {},
   "outputs": [
    {
     "name": "stdout",
     "output_type": "stream",
     "text": [
      "Austrian (AT) projects have the highest correlation in the data.\n",
      "                      Feature  Correlation\n",
      "0                        days    -0.000021\n",
      "1           main_category_Art    -0.013451\n",
      "2        main_category_Comics    -0.013766\n",
      "3        main_category_Crafts     0.023958\n",
      "4         main_category_Dance    -0.026807\n",
      "5        main_category_Design    -0.000879\n",
      "6       main_category_Fashion     0.037296\n",
      "7          main_category_Film    -0.016712\n",
      "8          main_category_Food     0.009078\n",
      "9         main_category_Games    -0.029517\n",
      "10   main_category_Journalism     0.053672\n",
      "11        main_category_Music    -0.004228\n",
      "12  main_category_Photography     0.031771\n",
      "13   main_category_Publishing     0.001467\n",
      "14   main_category_Technology    -0.025736\n",
      "15      main_category_Theater    -0.032953\n",
      "16               currency_AUD     0.014429\n",
      "17               currency_CAD    -0.002444\n",
      "18               currency_CHF    -0.014682\n",
      "19               currency_DKK     0.001061\n",
      "20               currency_EUR     0.000648\n",
      "21               currency_GBP    -0.032090\n",
      "22               currency_HKD    -0.003893\n",
      "23               currency_MXN     0.003310\n",
      "24               currency_NOK    -0.003555\n",
      "25               currency_NZD    -0.002342\n",
      "26               currency_SEK     0.001955\n",
      "27               currency_SGD    -0.005349\n",
      "28               currency_USD     0.001634\n",
      "29                 country_AT     0.076820\n",
      "30                 country_AU    -0.002736\n",
      "31                 country_BE    -0.002444\n",
      "32                 country_CA     0.000918\n",
      "33                 country_CH    -0.014682\n",
      "34                 country_DE     0.001061\n",
      "35                 country_DK    -0.005299\n",
      "36                 country_ES     0.000648\n",
      "37                 country_FR    -0.007278\n",
      "38                 country_GB    -0.001468\n",
      "39                 country_HK    -0.003893\n",
      "40                 country_IE     0.003310\n",
      "41                 country_IT    -0.001178\n",
      "42                 country_LU    -0.011874\n",
      "43                 country_MX     0.000277\n",
      "44                 country_NL    -0.003555\n",
      "45                 country_NO    -0.003452\n",
      "46                 country_NZ    -0.002342\n",
      "47                 country_SE     0.001955\n",
      "48                 country_SG    -0.005349\n",
      "49                 country_US     0.001634\n"
     ]
    }
   ],
   "source": [
    "logreg = LogisticRegression()\n",
    "logreg.fit(X_train_q3, y_train_q3)\n",
    "\n",
    "coeff_df2 = pd.DataFrame(df2.columns.delete(0))\n",
    "coeff_df2.columns = ['Feature']\n",
    "coeff_df2[\"Correlation\"] = pd.Series(logreg.coef_[0])\n",
    "\n",
    "coeff_df2.sort_values(by='Correlation', ascending=False)\n",
    "\n",
    "# Look into country_AT correlation because it is highest correlation of data\n",
    "print('Austrian (AT) projects have the highest correlation in the data.')\n",
    "print(coeff_df2)"
   ]
  },
  {
   "cell_type": "markdown",
   "metadata": {},
   "source": [
    "##### Logistic Regression"
   ]
  },
  {
   "cell_type": "code",
   "execution_count": 50,
   "metadata": {},
   "outputs": [
    {
     "name": "stdout",
     "output_type": "stream",
     "text": [
      "('Is logreg better than baseline?', 'Yes (p=9.79907384198e-26)')\n",
      "Accuracy score: 0.6328\n",
      "Recall score: 0.6328\n",
      "Precision score: 0.8158\n",
      "F1 score: 0.3959\n"
     ]
    }
   ],
   "source": [
    "logreg = LogisticRegression()\n",
    "logreg.fit(X_train_q3, y_train_q3)\n",
    "y_predict_q3_logreg = logreg.predict(X_test_q3)\n",
    "\n",
    "accuracy_score_logreg = accuracy_score(y_test_q3, y_predict_q3_logreg, normalize=True)\n",
    "recall_logreg = recall_score(y_test_q3, y_predict_q3_logreg, average='weighted')\n",
    "precision_logreg = precision_score(y_test_q3, y_predict_q3_logreg, average='macro')\n",
    "f1_score_logreg = f1_score(y_test_q3, y_predict_q3_logreg, average='macro')  \n",
    "mcnemar_test_logreg = mcnemar(y_test_q3, y_predict_q3_logreg)[1]\n",
    "\n",
    "print('Is logreg better than baseline?',\n",
    "     'Yes (p={})'.format(mcnemar_test_logreg) if mcnemar_test_logreg < 0.05 else 'No')\n",
    "print('Accuracy score: {0:0.4f}'.format(accuracy_score_logreg))\n",
    "print('Recall score: {0:0.4f}'.format(recall_logreg))\n",
    "print('Precision score: {0:0.4f}'.format(precision_logreg))\n",
    "print('F1 score: {0:0.4f}'.format(f1_score_logreg))"
   ]
  },
  {
   "cell_type": "markdown",
   "metadata": {},
   "source": [
    "##### KNN"
   ]
  },
  {
   "cell_type": "code",
   "execution_count": 51,
   "metadata": {},
   "outputs": [
    {
     "name": "stdout",
     "output_type": "stream",
     "text": [
      "('Is KNN better than baseline?', 'Yes (p=0.000311490976767)')\n",
      "Accuracy score: 0.6033\n",
      "Recall score: 0.6033\n",
      "Precision score: 0.5484\n",
      "F1 score: 0.5306\n"
     ]
    }
   ],
   "source": [
    "knn = KNeighborsClassifier()\n",
    "knn.fit(X_train_q3, y_train_q3)\n",
    "y_predict_q3_knn = knn.predict(X_test_q3)\n",
    "\n",
    "accuracy_score_knn = accuracy_score(y_test_q3, y_predict_q3_knn, normalize=True)\n",
    "recall_knn = recall_score(y_test_q3, y_predict_q3_knn, average='weighted')\n",
    "precision_knn = precision_score(y_test_q3, y_predict_q3_knn, average='macro')\n",
    "f1_score_knn = f1_score(y_test_q3, y_predict_q3_knn, average='macro')  \n",
    "mcnemar_test_knn = mcnemar(y_test_q3, y_predict_q3_knn)[1]\n",
    "\n",
    "print('Is KNN better than baseline?',\n",
    "     'Yes (p={})'.format(mcnemar_test_knn) if mcnemar_test_knn < 0.05 else 'No')\n",
    "print('Accuracy score: {0:0.4f}'.format(accuracy_score_knn))\n",
    "print('Recall score: {0:0.4f}'.format(recall_knn))\n",
    "print('Precision score: {0:0.4f}'.format(precision_knn))\n",
    "print('F1 score: {0:0.4f}'.format(f1_score_knn))"
   ]
  },
  {
   "cell_type": "markdown",
   "metadata": {},
   "source": [
    "##### Linear SVC"
   ]
  },
  {
   "cell_type": "code",
   "execution_count": 46,
   "metadata": {},
   "outputs": [
    {
     "name": "stdout",
     "output_type": "stream",
     "text": [
      "('Is linear svc better than baseline?', 'Yes (p=3.55296422416e-33)')\n",
      "Accuracy score: 0.3607\n",
      "Recall score: 0.3607\n",
      "Precision score: 0.3947\n",
      "F1 score: 0.2997\n"
     ]
    }
   ],
   "source": [
    "linear_svc = LinearSVC()\n",
    "linear_svc.fit(X_train_q3, y_train_q3)\n",
    "y_predict_q3_svc = linear_svc.predict(X_test_q3)\n",
    "\n",
    "accuracy_score_svc = accuracy_score(y_test_q3, y_predict_q3_svc, normalize=True)\n",
    "recall_linear_svc = recall_score(y_test_q3, y_predict_q3_svc, average='weighted')\n",
    "precision_linear_svc = precision_score(y_test_q3, y_predict_q3_svc, average='macro')\n",
    "f1_score_linear_svc = f1_score(y_test_q3, y_predict_q3_svc, average='macro')  \n",
    "mcnemar_test_linear_svc = mcnemar(y_test_q3, y_predict_q3_svc)[1]\n",
    "\n",
    "print('Is linear svc better than baseline?',\n",
    "     'Yes (p={})'.format(mcnemar_test_linear_svc) if mcnemar_test_linear_svc < 0.05 else 'No')\n",
    "print('Accuracy score: {0:0.4f}'.format(accuracy_score_svc))\n",
    "print('Recall score: {0:0.4f}'.format(recall_linear_svc))\n",
    "print('Precision score: {0:0.4f}'.format(precision_linear_svc))\n",
    "print('F1 score: {0:0.4f}'.format(f1_score_linear_svc))"
   ]
  },
  {
   "cell_type": "markdown",
   "metadata": {},
   "source": [
    "##### Decision Tree"
   ]
  },
  {
   "cell_type": "code",
   "execution_count": 47,
   "metadata": {},
   "outputs": [
    {
     "name": "stdout",
     "output_type": "stream",
     "text": [
      "('Is decision tree better than baseline?', 'Yes (p=0.0455002638964)')\n",
      "Accuracy score: 0.5869\n",
      "Recall score: 0.5869\n",
      "Precision score: 0.5399\n",
      "F1 score: 0.5337\n"
     ]
    }
   ],
   "source": [
    "decision_tree = DecisionTreeClassifier()\n",
    "decision_tree.fit(X_train_q3, y_train_q3)\n",
    "y_predict_q3_decision_tree = decision_tree.predict(X_test_q3)\n",
    "\n",
    "accuracy_score_decision_tree = accuracy_score(y_test_q3, y_predict_q3_decision_tree, normalize=True)\n",
    "recall_decision_tree = recall_score(y_test_q3, y_predict_q3_decision_tree, average='weighted')\n",
    "precision_decision_tree = precision_score(y_test_q3, y_predict_q3_decision_tree, average='macro')\n",
    "f1_score_decision_tree = f1_score(y_test_q3, y_predict_q3_decision_tree, average='macro')  \n",
    "mcnemar_test_decision_tree = mcnemar(y_test_q3, y_predict_q3_decision_tree)[1]\n",
    "\n",
    "print('Is decision tree better than baseline?',\n",
    "     'Yes (p={})'.format(mcnemar_test_decision_tree) if mcnemar_test_decision_tree < 0.05 else 'No')\n",
    "\n",
    "print('Accuracy score: {0:0.4f}'.format(accuracy_score_decision_tree))\n",
    "print('Recall score: {0:0.4f}'.format(recall_decision_tree))\n",
    "print('Precision score: {0:0.4f}'.format(precision_decision_tree))\n",
    "print('F1 score: {0:0.4f}'.format(f1_score_decision_tree))"
   ]
  },
  {
   "cell_type": "markdown",
   "metadata": {},
   "source": [
    "##### Random Forest"
   ]
  },
  {
   "cell_type": "code",
   "execution_count": 53,
   "metadata": {},
   "outputs": [
    {
     "name": "stdout",
     "output_type": "stream",
     "text": [
      "('Is random forest better than baseline?', 'Yes (p=0.001565402258)')\n",
      "Accuracy score: 0.6328\n",
      "Recall score: 0.6328\n",
      "Precision score: 0.5910\n",
      "F1 score: 0.5719\n"
     ]
    }
   ],
   "source": [
    "random_forest = RandomForestClassifier(n_estimators=100)\n",
    "random_forest.fit(X_train_q3, y_train_q3)\n",
    "y_predict_q3_random_forest = random_forest.predict(X_test_q3)\n",
    "\n",
    "accuracy_score_random_forest = accuracy_score(y_test_q3, y_predict_q3_random_forest, normalize=True)\n",
    "recall_random_forest = recall_score(y_test_q3, y_predict_q3_random_forest, average='weighted')\n",
    "precision_random_forest = precision_score(y_test_q3, y_predict_q3_random_forest, average='macro')\n",
    "f1_score_random_forest = f1_score(y_test_q3, y_predict_q3_random_forest, average='macro')  \n",
    "mcnemar_test_random_forest = mcnemar(y_test_q3, y_predict_q3_random_forest)[1]\n",
    "\n",
    "print('Is random forest better than baseline?',\n",
    "     'Yes (p={})'.format(mcnemar_test_random_forest) if mcnemar_test_random_forest < 0.05 else 'No')\n",
    "\n",
    "print('Accuracy score: {0:0.4f}'.format(accuracy_score_random_forest))\n",
    "print('Recall score: {0:0.4f}'.format(recall_random_forest))\n",
    "print('Precision score: {0:0.4f}'.format(precision_random_forest))\n",
    "print('F1 score: {0:0.4f}'.format(f1_score_random_forest))"
   ]
  },
  {
   "cell_type": "markdown",
   "metadata": {},
   "source": [
    "# Evaluation Models Q3"
   ]
  },
  {
   "cell_type": "code",
   "execution_count": 52,
   "metadata": {
    "scrolled": true
   },
   "outputs": [
    {
     "name": "stdout",
     "output_type": "stream",
     "text": [
      "Research Question 3 Evaluation: \n"
     ]
    },
    {
     "data": {
      "text/html": [
       "<div>\n",
       "<style>\n",
       "    .dataframe thead tr:only-child th {\n",
       "        text-align: right;\n",
       "    }\n",
       "\n",
       "    .dataframe thead th {\n",
       "        text-align: left;\n",
       "    }\n",
       "\n",
       "    .dataframe tbody tr th {\n",
       "        vertical-align: top;\n",
       "    }\n",
       "</style>\n",
       "<table border=\"1\" class=\"dataframe\">\n",
       "  <thead>\n",
       "    <tr style=\"text-align: right;\">\n",
       "      <th></th>\n",
       "      <th>F1 Score</th>\n",
       "      <th>Hypothesis testing vs Baseline</th>\n",
       "      <th>Mean Accuracy Score</th>\n",
       "      <th>Model</th>\n",
       "      <th>Precision</th>\n",
       "      <th>Recall</th>\n",
       "    </tr>\n",
       "  </thead>\n",
       "  <tbody>\n",
       "    <tr>\n",
       "      <th>2</th>\n",
       "      <td>0.579020</td>\n",
       "      <td>8.150972e-03</td>\n",
       "      <td>0.632787</td>\n",
       "      <td>Random Forest</td>\n",
       "      <td>0.593102</td>\n",
       "      <td>0.632787</td>\n",
       "    </tr>\n",
       "    <tr>\n",
       "      <th>4</th>\n",
       "      <td>0.533707</td>\n",
       "      <td>4.550026e-02</td>\n",
       "      <td>0.586885</td>\n",
       "      <td>Decision Tree</td>\n",
       "      <td>0.539872</td>\n",
       "      <td>0.586885</td>\n",
       "    </tr>\n",
       "    <tr>\n",
       "      <th>0</th>\n",
       "      <td>0.530620</td>\n",
       "      <td>3.114910e-04</td>\n",
       "      <td>0.603279</td>\n",
       "      <td>KNN</td>\n",
       "      <td>0.548402</td>\n",
       "      <td>0.603279</td>\n",
       "    </tr>\n",
       "    <tr>\n",
       "      <th>1</th>\n",
       "      <td>0.395869</td>\n",
       "      <td>9.799074e-26</td>\n",
       "      <td>0.632787</td>\n",
       "      <td>Logistic Regression</td>\n",
       "      <td>0.815789</td>\n",
       "      <td>0.632787</td>\n",
       "    </tr>\n",
       "    <tr>\n",
       "      <th>3</th>\n",
       "      <td>0.299676</td>\n",
       "      <td>3.552964e-33</td>\n",
       "      <td>0.360656</td>\n",
       "      <td>Linear SVC</td>\n",
       "      <td>0.394696</td>\n",
       "      <td>0.360656</td>\n",
       "    </tr>\n",
       "  </tbody>\n",
       "</table>\n",
       "</div>"
      ],
      "text/plain": [
       "   F1 Score  Hypothesis testing vs Baseline  Mean Accuracy Score  \\\n",
       "2  0.579020                    8.150972e-03             0.632787   \n",
       "4  0.533707                    4.550026e-02             0.586885   \n",
       "0  0.530620                    3.114910e-04             0.603279   \n",
       "1  0.395869                    9.799074e-26             0.632787   \n",
       "3  0.299676                    3.552964e-33             0.360656   \n",
       "\n",
       "                 Model  Precision    Recall  \n",
       "2        Random Forest   0.593102  0.632787  \n",
       "4        Decision Tree   0.539872  0.586885  \n",
       "0                  KNN   0.548402  0.603279  \n",
       "1  Logistic Regression   0.815789  0.632787  \n",
       "3           Linear SVC   0.394696  0.360656  "
      ]
     },
     "execution_count": 52,
     "metadata": {},
     "output_type": "execute_result"
    }
   ],
   "source": [
    "# %precision 20\n",
    "# u'%.2f'\n",
    "# np.set_printoptions(precision=3)\n",
    "print('Research Question 3 Evaluation: ')\n",
    "evaluation_models_q3 = pd.DataFrame({\n",
    "    'Model': ['KNN', 'Logistic Regression', \n",
    "              'Random Forest',   \n",
    "              'Linear SVC', \n",
    "              'Decision Tree'],\n",
    "    'Recall': [recall_knn, recall_logreg, \n",
    "              recall_random_forest,   \n",
    "              recall_linear_svc, recall_decision_tree],\n",
    "    \n",
    "    'Precision': [precision_knn, precision_logreg, \n",
    "              precision_random_forest,   \n",
    "              precision_linear_svc, precision_decision_tree],\n",
    "    \n",
    "    'F1 Score': [f1_score_knn, f1_score_logreg, \n",
    "              f1_score_random_forest,   \n",
    "              f1_score_linear_svc, f1_score_decision_tree],\n",
    "    \n",
    "    'Mean Accuracy Score': [accuracy_score_knn, accuracy_score_logreg, \n",
    "                       accuracy_score_random_forest, accuracy_score_svc, \n",
    "                       accuracy_score_decision_tree],\n",
    "    'Hypothesis testing vs Baseline': [mcnemar_test_knn, mcnemar_test_logreg, \n",
    "                       mcnemar_test_random_forest, mcnemar_test_linear_svc, \n",
    "                       mcnemar_test_decision_tree]\n",
    "})\n",
    "evaluation_models_q3.sort_values(by='F1 Score', ascending=False)"
   ]
  },
  {
   "cell_type": "code",
   "execution_count": null,
   "metadata": {},
   "outputs": [],
   "source": []
  }
 ],
 "metadata": {
  "kernelspec": {
   "display_name": "Python 3",
   "language": "python",
   "name": "python3"
  },
  "language_info": {
   "codemirror_mode": {
    "name": "ipython",
    "version": 2
   },
   "file_extension": ".py",
   "mimetype": "text/x-python",
   "name": "python",
   "nbconvert_exporter": "python",
   "pygments_lexer": "ipython2",
   "version": "2.7.15"
  }
 },
 "nbformat": 4,
 "nbformat_minor": 2
}
